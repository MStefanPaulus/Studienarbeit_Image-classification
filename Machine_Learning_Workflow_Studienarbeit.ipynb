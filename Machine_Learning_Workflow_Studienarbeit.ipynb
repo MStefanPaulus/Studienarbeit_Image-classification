{
  "nbformat": 4,
  "nbformat_minor": 0,
  "metadata": {
    "colab": {
      "name": "System_1.ipynb",
      "provenance": [],
      "collapsed_sections": [],
      "toc_visible": true,
      "mount_file_id": "1qksuT1wnQ0Chu_oDyYyUbHCihhdnC-k1",
      "authorship_tag": "ABX9TyNSVguszZ4fWDZM8P+Ua2oT",
      "include_colab_link": true
    },
    "kernelspec": {
      "name": "python3",
      "display_name": "Python 3"
    }
  },
  "cells": [
    {
      "cell_type": "markdown",
      "metadata": {
        "id": "view-in-github",
        "colab_type": "text"
      },
      "source": [
        "<a href=\"https://colab.research.google.com/github/MStefanPaulus/Studienarbeit_Image-classification/blob/master/Machine_Learning_Workflow_Studienarbeit.ipynb\" target=\"_parent\"><img src=\"https://colab.research.google.com/assets/colab-badge.svg\" alt=\"Open In Colab\"/></a>"
      ]
    },
    {
      "cell_type": "markdown",
      "metadata": {
        "id": "pWzyxoAh0Ox6"
      },
      "source": [
        "### **1. Definition der Aufgabe und Zusammenstellen der Datenmenge**"
      ]
    },
    {
      "cell_type": "markdown",
      "metadata": {
        "id": "iRcxeXgt0nII"
      },
      "source": [
        "Die KI soll Probekörper in zwei Kategorien einordnen. Aus den 174 vorliegenden Bildern 17 Bilder als Testbilder zufällig gewählt. Außerdem werden 30 Bilder als Validierungsset zufällig gewählt. Für spätere neuronale Netze werden Möglichkeiten der Data Augmentation genutzt, um die Anzahl der Trainingsbilder zu erhöhen."
      ]
    },
    {
      "cell_type": "markdown",
      "metadata": {
        "id": "U3xH012u2Utw"
      },
      "source": [
        "### **2. Aufstellen eines Erfolgskriteriums**"
      ]
    },
    {
      "cell_type": "markdown",
      "metadata": {
        "id": "Xk8PnGr-2awQ"
      },
      "source": [
        "Eine möglichst hohe Genauigkeit bei den Validierungs- und insbesondere bei den Testdaten wird angestrebt."
      ]
    },
    {
      "cell_type": "markdown",
      "metadata": {
        "id": "_y8A_5Sw36EQ"
      },
      "source": [
        "### **3. Auswahl der Bewertungsmethode**"
      ]
    },
    {
      "cell_type": "markdown",
      "metadata": {
        "id": "UKvmgjh54AN4"
      },
      "source": [
        "Da es sich erstmal um einen ersten Versuch handelt, wird die Genauigkeit auf dem Validierungsset überwacht. Overfitting wird erwartet, da es ein sehr kleines Datenset ist."
      ]
    },
    {
      "cell_type": "markdown",
      "metadata": {
        "id": "Hu5yejs04SkQ"
      },
      "source": [
        "### **4. Vorbereitung der Daten**"
      ]
    },
    {
      "cell_type": "code",
      "metadata": {
        "id": "Rz4bwKrR-vq0",
        "outputId": "a0de9f9e-ca84-41ce-8618-2e78b20c6934",
        "colab": {
          "base_uri": "https://localhost:8080/",
          "height": 68
        }
      },
      "source": [
        "!pip install -q -U keras-tuner #Der Keras-Tuner muss erst installiert werden."
      ],
      "execution_count": 1,
      "outputs": [
        {
          "output_type": "stream",
          "text": [
            "\u001b[?25l\r\u001b[K     |██████                          | 10kB 11.7MB/s eta 0:00:01\r\u001b[K     |████████████                    | 20kB 1.7MB/s eta 0:00:01\r\u001b[K     |██████████████████              | 30kB 2.3MB/s eta 0:00:01\r\u001b[K     |████████████████████████        | 40kB 2.6MB/s eta 0:00:01\r\u001b[K     |██████████████████████████████  | 51kB 2.0MB/s eta 0:00:01\r\u001b[K     |████████████████████████████████| 61kB 1.9MB/s \n",
            "\u001b[?25h  Building wheel for keras-tuner (setup.py) ... \u001b[?25l\u001b[?25hdone\n",
            "  Building wheel for terminaltables (setup.py) ... \u001b[?25l\u001b[?25hdone\n"
          ],
          "name": "stdout"
        }
      ]
    },
    {
      "cell_type": "code",
      "metadata": {
        "id": "qI7LjYD14X28"
      },
      "source": [
        "import numpy as np\n",
        "import matplotlib.pyplot as plt\n",
        "import tensorflow as tf\n",
        "from tensorflow import keras\n",
        "from keras import preprocessing\n",
        "from tensorflow.keras.preprocessing.image import ImageDataGenerator\n",
        "from tensorflow.keras.optimizers import Adam\n",
        "import kerastuner as kt\n",
        "import IPython\n",
        "from google.colab import files\n",
        "from keras.preprocessing import image\n",
        "#Alle benötigten Bibliotheken werden geladen"
      ],
      "execution_count": 2,
      "outputs": []
    },
    {
      "cell_type": "code",
      "metadata": {
        "id": "6QBnNxWY7OrJ",
        "outputId": "240233de-159f-481f-c539-604825db4ebb",
        "colab": {
          "base_uri": "https://localhost:8080/",
          "height": 51
        }
      },
      "source": [
        "train_data = ImageDataGenerator (\n",
        "    rescale=1. /1024)\n",
        "\n",
        "train_generator = train_data.flow_from_directory(\n",
        "    \"/content/drive/My Drive/Colab Notebooks/Bilddaten/Training\",\n",
        "    target_size=(500, 500),\n",
        "    class_mode=\"binary\",\n",
        "    batch_size = 25,)\n",
        "\n",
        "validation_data = ImageDataGenerator (\n",
        "    rescale=1. /1024)\n",
        "\n",
        "validation_generator = validation_data.flow_from_directory(\n",
        "    \"/content/drive/My Drive/Colab Notebooks/Bilddaten/Validation\",\n",
        "    target_size=(500, 500),\n",
        "    class_mode=\"binary\",\n",
        "    batch_size = 10)\n",
        "# Die Daten werden über einen Generator geladen. Dies erlaubt später große Datenmengen schneller zu laden und die Bilder künstlich zu verändern."
      ],
      "execution_count": null,
      "outputs": [
        {
          "output_type": "stream",
          "text": [
            "Found 128 images belonging to 2 classes.\n",
            "Found 30 images belonging to 2 classes.\n"
          ],
          "name": "stdout"
        }
      ]
    },
    {
      "cell_type": "markdown",
      "metadata": {
        "id": "2byUF9Qq83GA"
      },
      "source": [
        "Zuerst werden die benötigten Bibliotheken wie Tensorflow und Keras geladen. Anschließend werden die Bilder aus dem Dateiverzeichnis geladen. Dabei werden sie bereits verändert. Zum einen werden sie normalisiert, d.h. die Pixelwerte werden auf Werte zwischen 0 und 1 gebracht (rescale). Anschließend werden die Bilder auf 500x500 Pixel verkleinert, um den Rechenaufwand zu verringern. \n",
        "Die DataGenerator erlauben es Bilder künstlich zu verändern und schnell ins System zu laden. Dies wird später bei großen Datenmengen hilfreich sein."
      ]
    },
    {
      "cell_type": "markdown",
      "metadata": {
        "id": "Nu0tWAHR-RH_"
      },
      "source": [
        "### **5. Aufstellen eines Modells das besser als zufälliges Raten funktioniert**"
      ]
    },
    {
      "cell_type": "code",
      "metadata": {
        "id": "lF-Pm1ba73yY",
        "outputId": "44a2cfd4-2cf2-48db-ff85-b5d5aa8c95d7",
        "colab": {
          "base_uri": "https://localhost:8080/",
          "height": 459
        }
      },
      "source": [
        "first_model= tf.keras.models.Sequential([tf.keras.layers.Conv2D(12, (3,3),activation=\"relu\",\n",
        "                                                                     input_shape=(500,500,3)),\n",
        "                                       tf.keras.layers.MaxPooling2D(2,2),\n",
        "                                       tf.keras.layers.Conv2D(24, (3,3), activation=\"relu\"),\n",
        "                                       tf.keras.layers.MaxPooling2D(2,2),\n",
        "                                       tf.keras.layers.Conv2D(36, (3,3), activation=\"relu\"),\n",
        "                                       tf.keras.layers.MaxPooling2D(2,2),\n",
        "                                       tf.keras.layers.Flatten(),\n",
        "                                       tf.keras.layers.Dense(512, activation=\"relu\"),\n",
        "                                       tf.keras.layers.Dense(1, activation=\"sigmoid\")\n",
        "                                       ])\n",
        "first_model.summary()\n",
        "first_model.compile(loss=\"binary_crossentropy\",\n",
        "                  optimizer= Adam(lr=0.001),\n",
        "                  metrics=[\"accuracy\"])"
      ],
      "execution_count": null,
      "outputs": [
        {
          "output_type": "stream",
          "text": [
            "Model: \"sequential_2\"\n",
            "_________________________________________________________________\n",
            "Layer (type)                 Output Shape              Param #   \n",
            "=================================================================\n",
            "conv2d_5 (Conv2D)            (None, 498, 498, 12)      336       \n",
            "_________________________________________________________________\n",
            "max_pooling2d_5 (MaxPooling2 (None, 249, 249, 12)      0         \n",
            "_________________________________________________________________\n",
            "conv2d_6 (Conv2D)            (None, 247, 247, 24)      2616      \n",
            "_________________________________________________________________\n",
            "max_pooling2d_6 (MaxPooling2 (None, 123, 123, 24)      0         \n",
            "_________________________________________________________________\n",
            "conv2d_7 (Conv2D)            (None, 121, 121, 36)      7812      \n",
            "_________________________________________________________________\n",
            "max_pooling2d_7 (MaxPooling2 (None, 60, 60, 36)        0         \n",
            "_________________________________________________________________\n",
            "flatten_2 (Flatten)          (None, 129600)            0         \n",
            "_________________________________________________________________\n",
            "dense_4 (Dense)              (None, 512)               66355712  \n",
            "_________________________________________________________________\n",
            "dense_5 (Dense)              (None, 1)                 513       \n",
            "=================================================================\n",
            "Total params: 66,366,989\n",
            "Trainable params: 66,366,989\n",
            "Non-trainable params: 0\n",
            "_________________________________________________________________\n"
          ],
          "name": "stdout"
        }
      ]
    },
    {
      "cell_type": "markdown",
      "metadata": {
        "id": "J0lzudFr-NbI"
      },
      "source": [
        "Ein erstes Modell wird aufgestellt. In der Summary-Funktion wird das Modell näher erläutert. Insgesamt werden 92 Mio Parameter berechnet. Dabei werden zuerst in zwei Schichtabfolgen Merkmale der Bilder erlernt. Anschließend werden alle Daten zu einem großen Tensor, der in den beiden Dense-Schichten (stark vernetzte Schichten) die richtige Zuordnung der Merkmale zu den Klassen vornimmt. Die letzte Schicht mit nur einem künstlichen Neuron wird über die Sigmoid-Funktion aktiviert und teilt damit die Klassen zu (0 oder 1 mit Schwellwert 0,5). Das Modell nutzt binäre Kreuzentropie und den Adam Optimierer mit einer Lernrate von vorerst 0,001.\n"
      ]
    },
    {
      "cell_type": "code",
      "metadata": {
        "id": "mR5E6R32_0-Y",
        "outputId": "e8bbbc23-3bc6-4c6c-e8d1-4d1e276556c1",
        "colab": {
          "base_uri": "https://localhost:8080/",
          "height": 1000
        }
      },
      "source": [
        "training = first_model.fit(\n",
        "    train_generator,\n",
        "    validation_data = validation_generator,\n",
        "    epochs = 140,\n",
        "    steps_per_epoch = 5,\n",
        "    validation_steps = 3,\n",
        "    verbose = 1)\n",
        "#Das Modell wird in 140 Durchläufen trainiert. Die Generator stellen die Daten zur Verfügung."
      ],
      "execution_count": null,
      "outputs": [
        {
          "output_type": "stream",
          "text": [
            "Epoch 1/140\n",
            "5/5 [==============================] - 23s 5s/step - loss: 2.5120 - accuracy: 0.5049 - val_loss: 1.2625 - val_accuracy: 0.3000\n",
            "Epoch 2/140\n",
            "5/5 [==============================] - 19s 4s/step - loss: 0.8268 - accuracy: 0.4660 - val_loss: 0.6007 - val_accuracy: 0.7000\n",
            "Epoch 3/140\n",
            "5/5 [==============================] - 19s 4s/step - loss: 0.6510 - accuracy: 0.5728 - val_loss: 0.7344 - val_accuracy: 0.3000\n",
            "Epoch 4/140\n",
            "5/5 [==============================] - 22s 4s/step - loss: 0.6698 - accuracy: 0.5840 - val_loss: 0.5872 - val_accuracy: 0.7000\n",
            "Epoch 5/140\n",
            "5/5 [==============================] - 19s 4s/step - loss: 0.6851 - accuracy: 0.5728 - val_loss: 0.6090 - val_accuracy: 0.7000\n",
            "Epoch 6/140\n",
            "5/5 [==============================] - 22s 4s/step - loss: 0.6315 - accuracy: 0.6720 - val_loss: 0.6065 - val_accuracy: 0.7000\n",
            "Epoch 7/140\n",
            "5/5 [==============================] - 20s 4s/step - loss: 0.5853 - accuracy: 0.6602 - val_loss: 0.5351 - val_accuracy: 0.7000\n",
            "Epoch 8/140\n",
            "5/5 [==============================] - 20s 4s/step - loss: 0.5687 - accuracy: 0.6019 - val_loss: 0.5505 - val_accuracy: 0.6667\n",
            "Epoch 9/140\n",
            "5/5 [==============================] - 23s 5s/step - loss: 0.4862 - accuracy: 0.7767 - val_loss: 0.5320 - val_accuracy: 0.7333\n",
            "Epoch 10/140\n",
            "5/5 [==============================] - 20s 4s/step - loss: 0.4994 - accuracy: 0.7282 - val_loss: 0.5064 - val_accuracy: 0.8667\n",
            "Epoch 11/140\n",
            "5/5 [==============================] - 20s 4s/step - loss: 0.4787 - accuracy: 0.7282 - val_loss: 0.6993 - val_accuracy: 0.5333\n",
            "Epoch 12/140\n",
            "5/5 [==============================] - 24s 5s/step - loss: 0.4216 - accuracy: 0.8058 - val_loss: 0.5325 - val_accuracy: 0.8333\n",
            "Epoch 13/140\n",
            "5/5 [==============================] - 23s 5s/step - loss: 0.4169 - accuracy: 0.7961 - val_loss: 0.5923 - val_accuracy: 0.7000\n",
            "Epoch 14/140\n",
            "5/5 [==============================] - 20s 4s/step - loss: 0.3450 - accuracy: 0.8544 - val_loss: 0.6213 - val_accuracy: 0.7000\n",
            "Epoch 15/140\n",
            "5/5 [==============================] - 19s 4s/step - loss: 0.3125 - accuracy: 0.8932 - val_loss: 0.6943 - val_accuracy: 0.7333\n",
            "Epoch 16/140\n",
            "5/5 [==============================] - 23s 5s/step - loss: 0.2105 - accuracy: 0.9360 - val_loss: 0.8490 - val_accuracy: 0.7333\n",
            "Epoch 17/140\n",
            "5/5 [==============================] - 23s 5s/step - loss: 0.1534 - accuracy: 0.9600 - val_loss: 1.1443 - val_accuracy: 0.7333\n",
            "Epoch 18/140\n",
            "5/5 [==============================] - 20s 4s/step - loss: 0.1601 - accuracy: 0.9612 - val_loss: 1.2029 - val_accuracy: 0.7667\n",
            "Epoch 19/140\n",
            "5/5 [==============================] - 20s 4s/step - loss: 0.1124 - accuracy: 0.9612 - val_loss: 1.1633 - val_accuracy: 0.7333\n",
            "Epoch 20/140\n",
            "5/5 [==============================] - 19s 4s/step - loss: 0.1356 - accuracy: 0.9515 - val_loss: 1.4899 - val_accuracy: 0.6333\n",
            "Epoch 21/140\n",
            "5/5 [==============================] - 23s 5s/step - loss: 0.0774 - accuracy: 0.9903 - val_loss: 1.5291 - val_accuracy: 0.7000\n",
            "Epoch 22/140\n",
            "5/5 [==============================] - 20s 4s/step - loss: 0.0833 - accuracy: 0.9709 - val_loss: 1.6216 - val_accuracy: 0.7333\n",
            "Epoch 23/140\n",
            "5/5 [==============================] - 23s 5s/step - loss: 0.0479 - accuracy: 0.9903 - val_loss: 1.4957 - val_accuracy: 0.8000\n",
            "Epoch 24/140\n",
            "5/5 [==============================] - 20s 4s/step - loss: 0.0205 - accuracy: 1.0000 - val_loss: 1.7054 - val_accuracy: 0.8000\n",
            "Epoch 25/140\n",
            "5/5 [==============================] - 19s 4s/step - loss: 0.0087 - accuracy: 1.0000 - val_loss: 1.8651 - val_accuracy: 0.7667\n",
            "Epoch 26/140\n",
            "5/5 [==============================] - 20s 4s/step - loss: 0.0047 - accuracy: 1.0000 - val_loss: 1.9774 - val_accuracy: 0.8000\n",
            "Epoch 27/140\n",
            "5/5 [==============================] - 20s 4s/step - loss: 0.0028 - accuracy: 1.0000 - val_loss: 2.0801 - val_accuracy: 0.8000\n",
            "Epoch 28/140\n",
            "5/5 [==============================] - 23s 5s/step - loss: 0.0018 - accuracy: 1.0000 - val_loss: 2.1681 - val_accuracy: 0.7667\n",
            "Epoch 29/140\n",
            "5/5 [==============================] - 23s 5s/step - loss: 0.0012 - accuracy: 1.0000 - val_loss: 2.1986 - val_accuracy: 0.7667\n",
            "Epoch 30/140\n",
            "5/5 [==============================] - 23s 5s/step - loss: 8.2341e-04 - accuracy: 1.0000 - val_loss: 2.2698 - val_accuracy: 0.7333\n",
            "Epoch 31/140\n",
            "5/5 [==============================] - 20s 4s/step - loss: 7.8611e-04 - accuracy: 1.0000 - val_loss: 2.2856 - val_accuracy: 0.7667\n",
            "Epoch 32/140\n",
            "5/5 [==============================] - 19s 4s/step - loss: 5.4483e-04 - accuracy: 1.0000 - val_loss: 2.3068 - val_accuracy: 0.7333\n",
            "Epoch 33/140\n",
            "5/5 [==============================] - 19s 4s/step - loss: 4.8057e-04 - accuracy: 1.0000 - val_loss: 2.3345 - val_accuracy: 0.7333\n",
            "Epoch 34/140\n",
            "5/5 [==============================] - 20s 4s/step - loss: 4.5439e-04 - accuracy: 1.0000 - val_loss: 2.3287 - val_accuracy: 0.7667\n",
            "Epoch 35/140\n",
            "5/5 [==============================] - 23s 5s/step - loss: 4.7227e-04 - accuracy: 1.0000 - val_loss: 2.3700 - val_accuracy: 0.7333\n",
            "Epoch 36/140\n",
            "5/5 [==============================] - 19s 4s/step - loss: 3.1797e-04 - accuracy: 1.0000 - val_loss: 2.3878 - val_accuracy: 0.7333\n",
            "Epoch 37/140\n",
            "5/5 [==============================] - 19s 4s/step - loss: 2.8538e-04 - accuracy: 1.0000 - val_loss: 2.3687 - val_accuracy: 0.7667\n",
            "Epoch 38/140\n",
            "5/5 [==============================] - 19s 4s/step - loss: 4.1571e-04 - accuracy: 1.0000 - val_loss: 2.3922 - val_accuracy: 0.7667\n",
            "Epoch 39/140\n",
            "5/5 [==============================] - 23s 5s/step - loss: 3.6190e-04 - accuracy: 1.0000 - val_loss: 2.4465 - val_accuracy: 0.7667\n",
            "Epoch 40/140\n",
            "5/5 [==============================] - 19s 4s/step - loss: 2.9592e-04 - accuracy: 1.0000 - val_loss: 2.4185 - val_accuracy: 0.7667\n",
            "Epoch 41/140\n",
            "5/5 [==============================] - 19s 4s/step - loss: 2.9737e-04 - accuracy: 1.0000 - val_loss: 2.4376 - val_accuracy: 0.7667\n",
            "Epoch 42/140\n",
            "5/5 [==============================] - 22s 4s/step - loss: 2.6659e-04 - accuracy: 1.0000 - val_loss: 2.4812 - val_accuracy: 0.7667\n",
            "Epoch 43/140\n",
            "5/5 [==============================] - 20s 4s/step - loss: 2.5365e-04 - accuracy: 1.0000 - val_loss: 2.4670 - val_accuracy: 0.7667\n",
            "Epoch 44/140\n",
            "5/5 [==============================] - 23s 5s/step - loss: 2.9183e-04 - accuracy: 1.0000 - val_loss: 2.4786 - val_accuracy: 0.7667\n",
            "Epoch 45/140\n",
            "5/5 [==============================] - 20s 4s/step - loss: 2.2667e-04 - accuracy: 1.0000 - val_loss: 2.5486 - val_accuracy: 0.7667\n",
            "Epoch 46/140\n",
            "5/5 [==============================] - 19s 4s/step - loss: 2.0565e-04 - accuracy: 1.0000 - val_loss: 2.5424 - val_accuracy: 0.8000\n",
            "Epoch 47/140\n",
            "5/5 [==============================] - 22s 4s/step - loss: 1.7687e-04 - accuracy: 1.0000 - val_loss: 2.5161 - val_accuracy: 0.7667\n",
            "Epoch 48/140\n",
            "5/5 [==============================] - 19s 4s/step - loss: 1.3579e-04 - accuracy: 1.0000 - val_loss: 2.5304 - val_accuracy: 0.7667\n",
            "Epoch 49/140\n",
            "5/5 [==============================] - 23s 5s/step - loss: 1.6005e-04 - accuracy: 1.0000 - val_loss: 2.5888 - val_accuracy: 0.7667\n",
            "Epoch 50/140\n",
            "5/5 [==============================] - 19s 4s/step - loss: 1.5900e-04 - accuracy: 1.0000 - val_loss: 2.5929 - val_accuracy: 0.7667\n",
            "Epoch 51/140\n",
            "5/5 [==============================] - 23s 5s/step - loss: 1.4238e-04 - accuracy: 1.0000 - val_loss: 2.5617 - val_accuracy: 0.7667\n",
            "Epoch 52/140\n",
            "5/5 [==============================] - 19s 4s/step - loss: 1.4822e-04 - accuracy: 1.0000 - val_loss: 2.5689 - val_accuracy: 0.7667\n",
            "Epoch 53/140\n",
            "5/5 [==============================] - 19s 4s/step - loss: 1.4172e-04 - accuracy: 1.0000 - val_loss: 2.6050 - val_accuracy: 0.8000\n",
            "Epoch 54/140\n",
            "5/5 [==============================] - 19s 4s/step - loss: 1.3406e-04 - accuracy: 1.0000 - val_loss: 2.6161 - val_accuracy: 0.8000\n",
            "Epoch 55/140\n",
            "5/5 [==============================] - 23s 5s/step - loss: 1.2354e-04 - accuracy: 1.0000 - val_loss: 2.6006 - val_accuracy: 0.7667\n",
            "Epoch 56/140\n",
            "5/5 [==============================] - 19s 4s/step - loss: 1.0468e-04 - accuracy: 1.0000 - val_loss: 2.6110 - val_accuracy: 0.7667\n",
            "Epoch 57/140\n",
            "5/5 [==============================] - 19s 4s/step - loss: 9.3264e-05 - accuracy: 1.0000 - val_loss: 2.6124 - val_accuracy: 0.7667\n",
            "Epoch 58/140\n",
            "5/5 [==============================] - 23s 5s/step - loss: 9.8581e-05 - accuracy: 1.0000 - val_loss: 2.6395 - val_accuracy: 0.8000\n",
            "Epoch 59/140\n",
            "5/5 [==============================] - 19s 4s/step - loss: 8.1351e-05 - accuracy: 1.0000 - val_loss: 2.6486 - val_accuracy: 0.7667\n",
            "Epoch 60/140\n",
            "5/5 [==============================] - 20s 4s/step - loss: 1.4148e-04 - accuracy: 1.0000 - val_loss: 2.6236 - val_accuracy: 0.7667\n",
            "Epoch 61/140\n",
            "5/5 [==============================] - 19s 4s/step - loss: 1.0355e-04 - accuracy: 1.0000 - val_loss: 2.6669 - val_accuracy: 0.8000\n",
            "Epoch 62/140\n",
            "5/5 [==============================] - 19s 4s/step - loss: 9.4192e-05 - accuracy: 1.0000 - val_loss: 2.6909 - val_accuracy: 0.8000\n",
            "Epoch 63/140\n",
            "5/5 [==============================] - 19s 4s/step - loss: 9.5855e-05 - accuracy: 1.0000 - val_loss: 2.6447 - val_accuracy: 0.7667\n",
            "Epoch 64/140\n",
            "5/5 [==============================] - 19s 4s/step - loss: 1.2170e-04 - accuracy: 1.0000 - val_loss: 2.6444 - val_accuracy: 0.7667\n",
            "Epoch 65/140\n",
            "5/5 [==============================] - 23s 5s/step - loss: 9.5197e-05 - accuracy: 1.0000 - val_loss: 2.7071 - val_accuracy: 0.8000\n",
            "Epoch 66/140\n",
            "5/5 [==============================] - 20s 4s/step - loss: 7.8757e-05 - accuracy: 1.0000 - val_loss: 2.7287 - val_accuracy: 0.7667\n",
            "Epoch 67/140\n",
            "5/5 [==============================] - 19s 4s/step - loss: 6.9524e-05 - accuracy: 1.0000 - val_loss: 2.6961 - val_accuracy: 0.8000\n",
            "Epoch 68/140\n",
            "5/5 [==============================] - 23s 5s/step - loss: 7.1239e-05 - accuracy: 1.0000 - val_loss: 2.6882 - val_accuracy: 0.7667\n",
            "Epoch 69/140\n",
            "5/5 [==============================] - 19s 4s/step - loss: 6.3866e-05 - accuracy: 1.0000 - val_loss: 2.7110 - val_accuracy: 0.8000\n",
            "Epoch 70/140\n",
            "5/5 [==============================] - 19s 4s/step - loss: 6.0478e-05 - accuracy: 1.0000 - val_loss: 2.7240 - val_accuracy: 0.8000\n",
            "Epoch 71/140\n",
            "5/5 [==============================] - 22s 4s/step - loss: 6.0304e-05 - accuracy: 1.0000 - val_loss: 2.7244 - val_accuracy: 0.8000\n",
            "Epoch 72/140\n",
            "5/5 [==============================] - 23s 5s/step - loss: 6.7626e-05 - accuracy: 1.0000 - val_loss: 2.7159 - val_accuracy: 0.7667\n",
            "Epoch 73/140\n",
            "5/5 [==============================] - 19s 4s/step - loss: 4.8807e-05 - accuracy: 1.0000 - val_loss: 2.7209 - val_accuracy: 0.7667\n",
            "Epoch 74/140\n",
            "5/5 [==============================] - 19s 4s/step - loss: 6.2518e-05 - accuracy: 1.0000 - val_loss: 2.7412 - val_accuracy: 0.7667\n",
            "Epoch 75/140\n",
            "5/5 [==============================] - 23s 5s/step - loss: 6.1567e-05 - accuracy: 1.0000 - val_loss: 2.7651 - val_accuracy: 0.8000\n",
            "Epoch 76/140\n",
            "5/5 [==============================] - 22s 4s/step - loss: 5.0460e-05 - accuracy: 1.0000 - val_loss: 2.7625 - val_accuracy: 0.7667\n",
            "Epoch 77/140\n",
            "5/5 [==============================] - 20s 4s/step - loss: 4.4836e-05 - accuracy: 1.0000 - val_loss: 2.7513 - val_accuracy: 0.7667\n",
            "Epoch 78/140\n",
            "5/5 [==============================] - 19s 4s/step - loss: 5.7069e-05 - accuracy: 1.0000 - val_loss: 2.7710 - val_accuracy: 0.7667\n",
            "Epoch 79/140\n",
            "5/5 [==============================] - 19s 4s/step - loss: 5.1148e-05 - accuracy: 1.0000 - val_loss: 2.7840 - val_accuracy: 0.7667\n",
            "Epoch 80/140\n",
            "5/5 [==============================] - 23s 5s/step - loss: 4.3344e-05 - accuracy: 1.0000 - val_loss: 2.7880 - val_accuracy: 0.7667\n",
            "Epoch 81/140\n",
            "5/5 [==============================] - 19s 4s/step - loss: 3.6965e-05 - accuracy: 1.0000 - val_loss: 2.7929 - val_accuracy: 0.7667\n",
            "Epoch 82/140\n",
            "5/5 [==============================] - 19s 4s/step - loss: 3.7853e-05 - accuracy: 1.0000 - val_loss: 2.7942 - val_accuracy: 0.7667\n",
            "Epoch 83/140\n",
            "5/5 [==============================] - 19s 4s/step - loss: 4.0357e-05 - accuracy: 1.0000 - val_loss: 2.8147 - val_accuracy: 0.8000\n",
            "Epoch 84/140\n",
            "5/5 [==============================] - 19s 4s/step - loss: 3.7557e-05 - accuracy: 1.0000 - val_loss: 2.8262 - val_accuracy: 0.8000\n",
            "Epoch 85/140\n",
            "5/5 [==============================] - 23s 5s/step - loss: 4.3331e-05 - accuracy: 1.0000 - val_loss: 2.7917 - val_accuracy: 0.7667\n",
            "Epoch 86/140\n",
            "5/5 [==============================] - 19s 4s/step - loss: 5.2763e-05 - accuracy: 1.0000 - val_loss: 2.8026 - val_accuracy: 0.7667\n",
            "Epoch 87/140\n",
            "5/5 [==============================] - 23s 5s/step - loss: 4.3342e-05 - accuracy: 1.0000 - val_loss: 2.8190 - val_accuracy: 0.7667\n",
            "Epoch 88/140\n",
            "5/5 [==============================] - 20s 4s/step - loss: 4.2748e-05 - accuracy: 1.0000 - val_loss: 2.8319 - val_accuracy: 0.8000\n",
            "Epoch 89/140\n",
            "5/5 [==============================] - 20s 4s/step - loss: 2.8158e-05 - accuracy: 1.0000 - val_loss: 2.8412 - val_accuracy: 0.8000\n",
            "Epoch 90/140\n",
            "5/5 [==============================] - 23s 5s/step - loss: 2.9586e-05 - accuracy: 1.0000 - val_loss: 2.8510 - val_accuracy: 0.8000\n",
            "Epoch 91/140\n",
            "5/5 [==============================] - 19s 4s/step - loss: 3.1864e-05 - accuracy: 1.0000 - val_loss: 2.8555 - val_accuracy: 0.8000\n",
            "Epoch 92/140\n",
            "5/5 [==============================] - 23s 5s/step - loss: 3.4906e-05 - accuracy: 1.0000 - val_loss: 2.8586 - val_accuracy: 0.8000\n",
            "Epoch 93/140\n",
            "5/5 [==============================] - 19s 4s/step - loss: 2.3593e-05 - accuracy: 1.0000 - val_loss: 2.8614 - val_accuracy: 0.7667\n",
            "Epoch 94/140\n",
            "5/5 [==============================] - 22s 4s/step - loss: 3.0032e-05 - accuracy: 1.0000 - val_loss: 2.8728 - val_accuracy: 0.8000\n",
            "Epoch 95/140\n",
            "5/5 [==============================] - 20s 4s/step - loss: 3.1253e-05 - accuracy: 1.0000 - val_loss: 2.8556 - val_accuracy: 0.7667\n",
            "Epoch 96/140\n",
            "5/5 [==============================] - 20s 4s/step - loss: 2.7638e-05 - accuracy: 1.0000 - val_loss: 2.8702 - val_accuracy: 0.7667\n",
            "Epoch 97/140\n",
            "5/5 [==============================] - 22s 4s/step - loss: 2.6800e-05 - accuracy: 1.0000 - val_loss: 2.8959 - val_accuracy: 0.8000\n",
            "Epoch 98/140\n",
            "5/5 [==============================] - 19s 4s/step - loss: 2.7064e-05 - accuracy: 1.0000 - val_loss: 2.9034 - val_accuracy: 0.8000\n",
            "Epoch 99/140\n",
            "5/5 [==============================] - 19s 4s/step - loss: 3.0581e-05 - accuracy: 1.0000 - val_loss: 2.9003 - val_accuracy: 0.8000\n",
            "Epoch 100/140\n",
            "5/5 [==============================] - 20s 4s/step - loss: 2.3988e-05 - accuracy: 1.0000 - val_loss: 2.8909 - val_accuracy: 0.7667\n",
            "Epoch 101/140\n",
            "5/5 [==============================] - 19s 4s/step - loss: 2.3734e-05 - accuracy: 1.0000 - val_loss: 2.8962 - val_accuracy: 0.7667\n",
            "Epoch 102/140\n",
            "5/5 [==============================] - 19s 4s/step - loss: 2.5314e-05 - accuracy: 1.0000 - val_loss: 2.9262 - val_accuracy: 0.8000\n",
            "Epoch 103/140\n",
            "5/5 [==============================] - 19s 4s/step - loss: 2.6006e-05 - accuracy: 1.0000 - val_loss: 2.9384 - val_accuracy: 0.8000\n",
            "Epoch 104/140\n",
            "5/5 [==============================] - 22s 4s/step - loss: 2.4838e-05 - accuracy: 1.0000 - val_loss: 2.9222 - val_accuracy: 0.7667\n",
            "Epoch 105/140\n",
            "5/5 [==============================] - 19s 4s/step - loss: 1.8121e-05 - accuracy: 1.0000 - val_loss: 2.9237 - val_accuracy: 0.7667\n",
            "Epoch 106/140\n",
            "5/5 [==============================] - 22s 4s/step - loss: 2.1542e-05 - accuracy: 1.0000 - val_loss: 2.9348 - val_accuracy: 0.8000\n",
            "Epoch 107/140\n",
            "5/5 [==============================] - 20s 4s/step - loss: 2.3936e-05 - accuracy: 1.0000 - val_loss: 2.9693 - val_accuracy: 0.8000\n",
            "Epoch 108/140\n",
            "5/5 [==============================] - 19s 4s/step - loss: 2.9865e-05 - accuracy: 1.0000 - val_loss: 2.9504 - val_accuracy: 0.8000\n",
            "Epoch 109/140\n",
            "5/5 [==============================] - 22s 4s/step - loss: 2.0694e-05 - accuracy: 1.0000 - val_loss: 2.9370 - val_accuracy: 0.7667\n",
            "Epoch 110/140\n",
            "5/5 [==============================] - 23s 5s/step - loss: 2.2047e-05 - accuracy: 1.0000 - val_loss: 2.9465 - val_accuracy: 0.7667\n",
            "Epoch 111/140\n",
            "5/5 [==============================] - 19s 4s/step - loss: 1.6066e-05 - accuracy: 1.0000 - val_loss: 2.9579 - val_accuracy: 0.7667\n",
            "Epoch 112/140\n",
            "5/5 [==============================] - 19s 4s/step - loss: 1.6250e-05 - accuracy: 1.0000 - val_loss: 2.9626 - val_accuracy: 0.7667\n",
            "Epoch 113/140\n",
            "5/5 [==============================] - 23s 5s/step - loss: 2.1480e-05 - accuracy: 1.0000 - val_loss: 2.9554 - val_accuracy: 0.7667\n",
            "Epoch 114/140\n",
            "5/5 [==============================] - 19s 4s/step - loss: 2.0559e-05 - accuracy: 1.0000 - val_loss: 2.9746 - val_accuracy: 0.7667\n",
            "Epoch 115/140\n",
            "5/5 [==============================] - 20s 4s/step - loss: 2.1113e-05 - accuracy: 1.0000 - val_loss: 2.9953 - val_accuracy: 0.8000\n",
            "Epoch 116/140\n",
            "5/5 [==============================] - 23s 5s/step - loss: 1.6647e-05 - accuracy: 1.0000 - val_loss: 2.9965 - val_accuracy: 0.8000\n",
            "Epoch 117/140\n",
            "5/5 [==============================] - 20s 4s/step - loss: 1.8579e-05 - accuracy: 1.0000 - val_loss: 2.9853 - val_accuracy: 0.7667\n",
            "Epoch 118/140\n",
            "5/5 [==============================] - 20s 4s/step - loss: 1.4309e-05 - accuracy: 1.0000 - val_loss: 2.9840 - val_accuracy: 0.7667\n",
            "Epoch 119/140\n",
            "5/5 [==============================] - 23s 5s/step - loss: 1.6475e-05 - accuracy: 1.0000 - val_loss: 2.9956 - val_accuracy: 0.7667\n",
            "Epoch 120/140\n",
            "5/5 [==============================] - 20s 4s/step - loss: 1.6720e-05 - accuracy: 1.0000 - val_loss: 3.0087 - val_accuracy: 0.7667\n",
            "Epoch 121/140\n",
            "5/5 [==============================] - 23s 5s/step - loss: 1.7564e-05 - accuracy: 1.0000 - val_loss: 3.0237 - val_accuracy: 0.8000\n",
            "Epoch 122/140\n",
            "5/5 [==============================] - 19s 4s/step - loss: 1.5308e-05 - accuracy: 1.0000 - val_loss: 3.0176 - val_accuracy: 0.7667\n",
            "Epoch 123/140\n",
            "5/5 [==============================] - 23s 5s/step - loss: 9.5852e-06 - accuracy: 1.0000 - val_loss: 3.0158 - val_accuracy: 0.7667\n",
            "Epoch 124/140\n",
            "5/5 [==============================] - 20s 4s/step - loss: 1.2916e-05 - accuracy: 1.0000 - val_loss: 3.0207 - val_accuracy: 0.7667\n",
            "Epoch 125/140\n",
            "5/5 [==============================] - 19s 4s/step - loss: 1.5641e-05 - accuracy: 1.0000 - val_loss: 3.0378 - val_accuracy: 0.7667\n",
            "Epoch 126/140\n",
            "5/5 [==============================] - 23s 5s/step - loss: 1.3697e-05 - accuracy: 1.0000 - val_loss: 3.0498 - val_accuracy: 0.8000\n",
            "Epoch 127/140\n",
            "5/5 [==============================] - 23s 5s/step - loss: 1.2704e-05 - accuracy: 1.0000 - val_loss: 3.0565 - val_accuracy: 0.8000\n",
            "Epoch 128/140\n",
            "5/5 [==============================] - 23s 5s/step - loss: 1.2721e-05 - accuracy: 1.0000 - val_loss: 3.0491 - val_accuracy: 0.7667\n",
            "Epoch 129/140\n",
            "5/5 [==============================] - 19s 4s/step - loss: 1.2106e-05 - accuracy: 1.0000 - val_loss: 3.0432 - val_accuracy: 0.7667\n",
            "Epoch 130/140\n",
            "5/5 [==============================] - 19s 4s/step - loss: 1.3870e-05 - accuracy: 1.0000 - val_loss: 3.0561 - val_accuracy: 0.7667\n",
            "Epoch 131/140\n",
            "5/5 [==============================] - 19s 4s/step - loss: 1.1077e-05 - accuracy: 1.0000 - val_loss: 3.0713 - val_accuracy: 0.7667\n",
            "Epoch 132/140\n",
            "5/5 [==============================] - 20s 4s/step - loss: 1.3431e-05 - accuracy: 1.0000 - val_loss: 3.0723 - val_accuracy: 0.7667\n",
            "Epoch 133/140\n",
            "5/5 [==============================] - 23s 5s/step - loss: 1.0091e-05 - accuracy: 1.0000 - val_loss: 3.0747 - val_accuracy: 0.7667\n",
            "Epoch 134/140\n",
            "5/5 [==============================] - 23s 5s/step - loss: 1.1479e-05 - accuracy: 1.0000 - val_loss: 3.0758 - val_accuracy: 0.7667\n",
            "Epoch 135/140\n",
            "5/5 [==============================] - 19s 4s/step - loss: 1.2661e-05 - accuracy: 1.0000 - val_loss: 3.0722 - val_accuracy: 0.7667\n",
            "Epoch 136/140\n",
            "5/5 [==============================] - 22s 4s/step - loss: 1.2191e-05 - accuracy: 1.0000 - val_loss: 3.0771 - val_accuracy: 0.7667\n",
            "Epoch 137/140\n",
            "5/5 [==============================] - 23s 5s/step - loss: 1.1470e-05 - accuracy: 1.0000 - val_loss: 3.0906 - val_accuracy: 0.7667\n",
            "Epoch 138/140\n",
            "5/5 [==============================] - 19s 4s/step - loss: 9.4655e-06 - accuracy: 1.0000 - val_loss: 3.1309 - val_accuracy: 0.8000\n",
            "Epoch 139/140\n",
            "5/5 [==============================] - 23s 5s/step - loss: 1.3983e-05 - accuracy: 1.0000 - val_loss: 3.1487 - val_accuracy: 0.8000\n",
            "Epoch 140/140\n",
            "5/5 [==============================] - 19s 4s/step - loss: 1.3653e-05 - accuracy: 1.0000 - val_loss: 3.1133 - val_accuracy: 0.7667\n"
          ],
          "name": "stdout"
        }
      ]
    },
    {
      "cell_type": "code",
      "metadata": {
        "id": "oyJRimDZJFV-",
        "outputId": "0c42b681-0fbc-4963-cce2-f4ac6b8038fe",
        "colab": {
          "base_uri": "https://localhost:8080/",
          "height": 34
        }
      },
      "source": [
        "first_model.save(\"/content/drive/My Drive/Colab Notebooks/saved Nets/Alle Bilder_70epochs_system_1.h5\")\n",
        "print(\"hat geklappt!\")"
      ],
      "execution_count": null,
      "outputs": [
        {
          "output_type": "stream",
          "text": [
            "hat geklappt!\n"
          ],
          "name": "stdout"
        }
      ]
    },
    {
      "cell_type": "markdown",
      "metadata": {
        "id": "zlahzacSJU1Z"
      },
      "source": [
        "Das Modell wird abgespeichert, um es später wieder aufrufen zu können, ohne Trainieren zu müssen."
      ]
    },
    {
      "cell_type": "code",
      "metadata": {
        "id": "an8C0HomJPtF",
        "outputId": "5b29472a-e695-4af8-8cb3-cd565696a55b",
        "colab": {
          "base_uri": "https://localhost:8080/",
          "height": 545
        }
      },
      "source": [
        "acc = training.history['accuracy']\n",
        "val_acc = training.history['val_accuracy']\n",
        "loss = training.history['loss']\n",
        "val_loss = training.history['val_loss']\n",
        "\n",
        "epochs = range(len(acc))\n",
        "\n",
        "plt.plot(epochs, acc, 'bo', label='Training accuracy')\n",
        "plt.plot(epochs, val_acc, 'b', label='Validation accuracy')\n",
        "plt.title('Training and validation accuracy')\n",
        "\n",
        "plt.figure()\n",
        "\n",
        "plt.plot(epochs, loss, 'bo', label='Training Loss')\n",
        "plt.plot(epochs, val_loss, 'b', label='Validation Loss')\n",
        "plt.title('Training and validation loss')\n",
        "plt.legend()\n",
        "\n",
        "plt.show()"
      ],
      "execution_count": null,
      "outputs": [
        {
          "output_type": "display_data",
          "data": {
            "image/png": "[encoded data removed]",
            "text/plain": [
              "<Figure size 432x288 with 1 Axes>"
            ]
          },
          "metadata": {
            "tags": [],
            "needs_background": "light"
          }
        },
        {
          "output_type": "display_data",
          "data": {
            "image/png": "[encoded data removed]",
            "text/plain": [
              "<Figure size 432x288 with 1 Axes>"
            ]
          },
          "metadata": {
            "tags": [],
            "needs_background": "light"
          }
        }
      ]
    },
    {
      "cell_type": "markdown",
      "metadata": {
        "id": "4J3S3yTyJnQ1"
      },
      "source": [
        "Diese Diagramme zeigen das Verhalten des Systems. Es zeigt sich, dass es zu einer Überanpassung an die Trainingsdaten gekommen ist. Der Validation-Loss ist sehr hoch, während der Training-Loss sehr gering ist. Die Genauigkeit auf den Validationsdaten ist ebenfalls nicht sehr hoch. Das Modell funktioniert auf den Trainingsdaten und den Validierungsdaten besser als zufälliges Raten."
      ]
    },
    {
      "cell_type": "markdown",
      "metadata": {
        "id": "7WVZGTzSyDvg"
      },
      "source": [
        "### **4. Hochskalieren des Modells**"
      ]
    },
    {
      "cell_type": "markdown",
      "metadata": {
        "id": "X72Oq5UtzQn3"
      },
      "source": [
        "Im Folgenden wird der Datensatz auf 1280 Trainingsbilder vergrößert. Die Bilder werden zehnmal kopiert. Um die Bilder zu verändern und nicht mehrmals die Gleichen zu nutzen, werden die Bilder um bis zu 30° gedreht und zufällig horizontal oder vertikal gespiegelt. So entstehen immer wieder einzigartige neue Bilder, aber mit den gleichen wichtigen (zu erlernenden) Merkmalen. Außerdem werden die Conv2D-Schichten vergrößert. Das Modell passt jetzt bis zu 117 Mio Parameter an."
      ]
    },
    {
      "cell_type": "code",
      "metadata": {
        "id": "Q3hIJTK20B0Q",
        "outputId": "0c54f820-7c46-48e5-e9fa-c6f8d2decf11",
        "colab": {
          "base_uri": "https://localhost:8080/",
          "height": 51
        }
      },
      "source": [
        "train_data = ImageDataGenerator (\n",
        "    rotation_range=30,\n",
        "    horizontal_flip=True,\n",
        "    vertical_flip=True,\n",
        "    rescale=1. /1024)\n",
        "\n",
        "train_generator2 = train_data.flow_from_directory(\n",
        "    \"/content/drive/My Drive/Colab Notebooks/Bilddaten/Training\",\n",
        "    target_size=(500, 500),\n",
        "    class_mode=\"binary\",\n",
        "    batch_size = 32,)\n",
        "\n",
        "\n",
        "validation_data = ImageDataGenerator (\n",
        "    rotation_range=30,\n",
        "    horizontal_flip=True,\n",
        "    vertical_flip=True,\n",
        "    rescale=1. /1024)\n",
        "\n",
        "validation_generator2 = validation_data.flow_from_directory(\n",
        "    \"/content/drive/My Drive/Colab Notebooks/Bilddaten/Validation\",\n",
        "    target_size=(500, 500),\n",
        "    class_mode=\"binary\",\n",
        "    batch_size = 30)"
      ],
      "execution_count": null,
      "outputs": [
        {
          "output_type": "stream",
          "text": [
            "Found 1280 images belonging to 2 classes.\n",
            "Found 300 images belonging to 2 classes.\n"
          ],
          "name": "stdout"
        }
      ]
    },
    {
      "cell_type": "code",
      "metadata": {
        "id": "eyoaB__ffQ5m",
        "outputId": "bd80bf55-4279-4d79-d2e8-248468957a17",
        "colab": {
          "base_uri": "https://localhost:8080/",
          "height": 1000
        }
      },
      "source": [
        "second_model2 = tf.keras.models.load_model(\"/content/drive/My Drive/Colab Notebooks/saved Nets/Alle Bilder_140Epochs_System_2.h5\")\n",
        "print(\"geladen\")\n",
        "second_model2.compile(loss=\"binary_crossentropy\",\n",
        "                  optimizer= Adam(lr=0.001),\n",
        "                  metrics=[\"accuracy\"])\n",
        "training3 = second_model2.fit(\n",
        "    train_generator2,\n",
        "    validation_data = validation_generator2,\n",
        "    epochs = 40,\n",
        "    steps_per_epoch = 40,\n",
        "    validation_steps = 10,\n",
        "    verbose = 1)"
      ],
      "execution_count": null,
      "outputs": [
        {
          "output_type": "stream",
          "text": [
            "geladen\n",
            "Epoch 1/40\n",
            "40/40 [==============================] - 834s 21s/step - loss: 0.6810 - accuracy: 0.6406 - val_loss: 0.6302 - val_accuracy: 0.6433\n",
            "Epoch 2/40\n",
            "40/40 [==============================] - 414s 10s/step - loss: 0.5297 - accuracy: 0.7406 - val_loss: 0.6030 - val_accuracy: 0.6267\n",
            "Epoch 3/40\n",
            "40/40 [==============================] - 417s 10s/step - loss: 0.4985 - accuracy: 0.7688 - val_loss: 0.6888 - val_accuracy: 0.6467\n",
            "Epoch 4/40\n",
            "40/40 [==============================] - 418s 10s/step - loss: 0.4280 - accuracy: 0.8070 - val_loss: 0.7586 - val_accuracy: 0.7600\n",
            "Epoch 5/40\n",
            "40/40 [==============================] - 417s 10s/step - loss: 0.3998 - accuracy: 0.8352 - val_loss: 0.6893 - val_accuracy: 0.6633\n",
            "Epoch 6/40\n",
            "40/40 [==============================] - 412s 10s/step - loss: 0.3382 - accuracy: 0.8555 - val_loss: 0.6733 - val_accuracy: 0.7367\n",
            "Epoch 7/40\n",
            "40/40 [==============================] - 415s 10s/step - loss: 0.2674 - accuracy: 0.8945 - val_loss: 0.7529 - val_accuracy: 0.7800\n",
            "Epoch 8/40\n",
            "40/40 [==============================] - 409s 10s/step - loss: 0.2325 - accuracy: 0.9094 - val_loss: 0.6466 - val_accuracy: 0.7267\n",
            "Epoch 9/40\n",
            "40/40 [==============================] - 414s 10s/step - loss: 0.1703 - accuracy: 0.9258 - val_loss: 0.6390 - val_accuracy: 0.7900\n",
            "Epoch 10/40\n",
            "40/40 [==============================] - 416s 10s/step - loss: 0.1718 - accuracy: 0.9266 - val_loss: 0.6460 - val_accuracy: 0.7667\n",
            "Epoch 11/40\n",
            "40/40 [==============================] - 411s 10s/step - loss: 0.1401 - accuracy: 0.9414 - val_loss: 0.6802 - val_accuracy: 0.7733\n",
            "Epoch 12/40\n",
            "40/40 [==============================] - 412s 10s/step - loss: 0.1326 - accuracy: 0.9406 - val_loss: 0.7219 - val_accuracy: 0.7400\n",
            "Epoch 13/40\n",
            "40/40 [==============================] - 412s 10s/step - loss: 0.1365 - accuracy: 0.9422 - val_loss: 0.5946 - val_accuracy: 0.8433\n",
            "Epoch 14/40\n",
            "40/40 [==============================] - 412s 10s/step - loss: 0.1083 - accuracy: 0.9445 - val_loss: 0.6318 - val_accuracy: 0.7933\n",
            "Epoch 15/40\n",
            "40/40 [==============================] - 414s 10s/step - loss: 0.0904 - accuracy: 0.9586 - val_loss: 0.7077 - val_accuracy: 0.8000\n",
            "Epoch 16/40\n",
            "40/40 [==============================] - 413s 10s/step - loss: 0.0654 - accuracy: 0.9688 - val_loss: 0.8178 - val_accuracy: 0.7900\n",
            "Epoch 17/40\n",
            "40/40 [==============================] - 413s 10s/step - loss: 0.0665 - accuracy: 0.9719 - val_loss: 0.8432 - val_accuracy: 0.7533\n",
            "Epoch 18/40\n",
            "40/40 [==============================] - 412s 10s/step - loss: 0.0653 - accuracy: 0.9711 - val_loss: 0.8083 - val_accuracy: 0.7867\n",
            "Epoch 19/40\n",
            "40/40 [==============================] - 412s 10s/step - loss: 0.0584 - accuracy: 0.9734 - val_loss: 1.0254 - val_accuracy: 0.7633\n",
            "Epoch 20/40\n",
            "40/40 [==============================] - 413s 10s/step - loss: 0.0516 - accuracy: 0.9781 - val_loss: 0.7843 - val_accuracy: 0.7600\n",
            "Epoch 21/40\n",
            "40/40 [==============================] - 413s 10s/step - loss: 0.0696 - accuracy: 0.9703 - val_loss: 0.8892 - val_accuracy: 0.7933\n",
            "Epoch 22/40\n",
            "40/40 [==============================] - 411s 10s/step - loss: 0.0579 - accuracy: 0.9789 - val_loss: 0.8729 - val_accuracy: 0.7733\n",
            "Epoch 23/40\n",
            "40/40 [==============================] - 409s 10s/step - loss: 0.0477 - accuracy: 0.9789 - val_loss: 1.4272 - val_accuracy: 0.7567\n",
            "Epoch 24/40\n",
            "40/40 [==============================] - 411s 10s/step - loss: 0.0436 - accuracy: 0.9836 - val_loss: 1.3657 - val_accuracy: 0.8067\n",
            "Epoch 25/40\n",
            "40/40 [==============================] - 413s 10s/step - loss: 0.0479 - accuracy: 0.9820 - val_loss: 1.4736 - val_accuracy: 0.7300\n",
            "Epoch 26/40\n",
            "40/40 [==============================] - 410s 10s/step - loss: 0.0634 - accuracy: 0.9758 - val_loss: 0.7523 - val_accuracy: 0.7767\n",
            "Epoch 27/40\n",
            "40/40 [==============================] - 413s 10s/step - loss: 0.0494 - accuracy: 0.9820 - val_loss: 1.0875 - val_accuracy: 0.7867\n",
            "Epoch 28/40\n",
            "40/40 [==============================] - 410s 10s/step - loss: 0.0498 - accuracy: 0.9797 - val_loss: 1.1547 - val_accuracy: 0.7933\n",
            "Epoch 29/40\n",
            "40/40 [==============================] - 414s 10s/step - loss: 0.0298 - accuracy: 0.9906 - val_loss: 1.4492 - val_accuracy: 0.7533\n",
            "Epoch 30/40\n",
            "40/40 [==============================] - 421s 11s/step - loss: 0.0360 - accuracy: 0.9891 - val_loss: 0.8324 - val_accuracy: 0.8067\n",
            "Epoch 31/40\n",
            "40/40 [==============================] - 417s 10s/step - loss: 0.0406 - accuracy: 0.9867 - val_loss: 1.5134 - val_accuracy: 0.7733\n",
            "Epoch 32/40\n",
            "40/40 [==============================] - 416s 10s/step - loss: 0.0756 - accuracy: 0.9734 - val_loss: 1.3026 - val_accuracy: 0.7133\n",
            "Epoch 33/40\n",
            "40/40 [==============================] - 415s 10s/step - loss: 0.0606 - accuracy: 0.9828 - val_loss: 0.7673 - val_accuracy: 0.7700\n",
            "Epoch 34/40\n",
            "40/40 [==============================] - 417s 10s/step - loss: 0.0348 - accuracy: 0.9898 - val_loss: 1.4143 - val_accuracy: 0.7933\n",
            "Epoch 35/40\n",
            "40/40 [==============================] - 416s 10s/step - loss: 0.0279 - accuracy: 0.9867 - val_loss: 1.6183 - val_accuracy: 0.7567\n",
            "Epoch 36/40\n",
            "40/40 [==============================] - 406s 10s/step - loss: 0.0188 - accuracy: 0.9922 - val_loss: 1.3804 - val_accuracy: 0.7900\n",
            "Epoch 37/40\n",
            "40/40 [==============================] - 408s 10s/step - loss: 0.0227 - accuracy: 0.9930 - val_loss: 1.7059 - val_accuracy: 0.7700\n",
            "Epoch 38/40\n",
            "40/40 [==============================] - 410s 10s/step - loss: 0.0137 - accuracy: 0.9937 - val_loss: 1.4551 - val_accuracy: 0.7600\n",
            "Epoch 39/40\n",
            "40/40 [==============================] - 411s 10s/step - loss: 0.0267 - accuracy: 0.9914 - val_loss: 1.8479 - val_accuracy: 0.7833\n",
            "Epoch 40/40\n",
            "40/40 [==============================] - 411s 10s/step - loss: 0.0120 - accuracy: 0.9945 - val_loss: 1.5151 - val_accuracy: 0.7600\n"
          ],
          "name": "stdout"
        }
      ]
    },
    {
      "cell_type": "code",
      "metadata": {
        "id": "wOkW8UwGYhDU",
        "outputId": "177beea4-14a1-4ff3-bc36-77ecc24a3130",
        "colab": {
          "base_uri": "https://localhost:8080/",
          "height": 34
        }
      },
      "source": [
        "second_model2.save(\"/content/drive/My Drive/Colab Notebooks/saved Nets/Alle Bilder_40Epochs_System_2_1.h5\")\n",
        "print(\"Hat geklappt!\")"
      ],
      "execution_count": null,
      "outputs": [
        {
          "output_type": "stream",
          "text": [
            "Hat geklappt!\n"
          ],
          "name": "stdout"
        }
      ]
    },
    {
      "cell_type": "code",
      "metadata": {
        "id": "gEZV5CpA8_40",
        "outputId": "2a0b789f-6cec-4bfa-a1f3-b156e3c69865",
        "colab": {
          "base_uri": "https://localhost:8080/",
          "height": 459
        }
      },
      "source": [
        "second_model2.summary()"
      ],
      "execution_count": null,
      "outputs": [
        {
          "output_type": "stream",
          "text": [
            "Model: \"sequential\"\n",
            "_________________________________________________________________\n",
            "Layer (type)                 Output Shape              Param #   \n",
            "=================================================================\n",
            "conv2d (Conv2D)              (None, 498, 498, 16)      448       \n",
            "_________________________________________________________________\n",
            "max_pooling2d (MaxPooling2D) (None, 249, 249, 16)      0         \n",
            "_________________________________________________________________\n",
            "conv2d_1 (Conv2D)            (None, 247, 247, 32)      4640      \n",
            "_________________________________________________________________\n",
            "max_pooling2d_1 (MaxPooling2 (None, 123, 123, 32)      0         \n",
            "_________________________________________________________________\n",
            "conv2d_2 (Conv2D)            (None, 121, 121, 64)      18496     \n",
            "_________________________________________________________________\n",
            "max_pooling2d_2 (MaxPooling2 (None, 60, 60, 64)        0         \n",
            "_________________________________________________________________\n",
            "flatten (Flatten)            (None, 230400)            0         \n",
            "_________________________________________________________________\n",
            "dense (Dense)                (None, 512)               117965312 \n",
            "_________________________________________________________________\n",
            "dense_1 (Dense)              (None, 1)                 513       \n",
            "=================================================================\n",
            "Total params: 117,989,409\n",
            "Trainable params: 117,989,409\n",
            "Non-trainable params: 0\n",
            "_________________________________________________________________\n"
          ],
          "name": "stdout"
        }
      ]
    },
    {
      "cell_type": "code",
      "metadata": {
        "id": "lgje5r0300TA",
        "outputId": "5afc1ed4-0cda-40b7-e804-250032699f91",
        "colab": {
          "base_uri": "https://localhost:8080/",
          "height": 231
        }
      },
      "source": [
        "acc = training3.history['accuracy']\n",
        "val_acc = training3.history['val_accuracy']\n",
        "loss = training3.history['loss']\n",
        "val_loss = training3.history['val_loss']\n",
        "\n",
        "epochs = range(len(acc))\n",
        "\n",
        "plt.plot(epochs, acc, 'bo', label='Training accuracy')\n",
        "plt.plot(epochs, val_acc, 'b', label='Validation accuracy')\n",
        "plt.title('Training and validation accuracy')\n",
        "\n",
        "plt.figure()\n",
        "\n",
        "plt.plot(epochs, loss, 'bo', label='Training Loss')\n",
        "plt.plot(epochs, val_loss, 'b', label='Validation Loss')\n",
        "plt.title('Training and validation loss')\n",
        "plt.legend()\n",
        "\n",
        "plt.show()"
      ],
      "execution_count": null,
      "outputs": [
        {
          "output_type": "error",
          "ename": "NameError",
          "evalue": "ignored",
          "traceback": [
            "\u001b[0;31m---------------------------------------------------------------------------\u001b[0m",
            "\u001b[0;31mNameError\u001b[0m                                 Traceback (most recent call last)",
            "\u001b[0;32m<ipython-input-4-16b90607b747>\u001b[0m in \u001b[0;36m<module>\u001b[0;34m()\u001b[0m\n\u001b[0;32m----> 1\u001b[0;31m \u001b[0macc\u001b[0m \u001b[0;34m=\u001b[0m \u001b[0mtraining3\u001b[0m\u001b[0;34m.\u001b[0m\u001b[0mhistory\u001b[0m\u001b[0;34m[\u001b[0m\u001b[0;34m'accuracy'\u001b[0m\u001b[0;34m]\u001b[0m\u001b[0;34m\u001b[0m\u001b[0;34m\u001b[0m\u001b[0m\n\u001b[0m\u001b[1;32m      2\u001b[0m \u001b[0mval_acc\u001b[0m \u001b[0;34m=\u001b[0m \u001b[0mtraining3\u001b[0m\u001b[0;34m.\u001b[0m\u001b[0mhistory\u001b[0m\u001b[0;34m[\u001b[0m\u001b[0;34m'val_accuracy'\u001b[0m\u001b[0;34m]\u001b[0m\u001b[0;34m\u001b[0m\u001b[0;34m\u001b[0m\u001b[0m\n\u001b[1;32m      3\u001b[0m \u001b[0mloss\u001b[0m \u001b[0;34m=\u001b[0m \u001b[0mtraining3\u001b[0m\u001b[0;34m.\u001b[0m\u001b[0mhistory\u001b[0m\u001b[0;34m[\u001b[0m\u001b[0;34m'loss'\u001b[0m\u001b[0;34m]\u001b[0m\u001b[0;34m\u001b[0m\u001b[0;34m\u001b[0m\u001b[0m\n\u001b[1;32m      4\u001b[0m \u001b[0mval_loss\u001b[0m \u001b[0;34m=\u001b[0m \u001b[0mtraining3\u001b[0m\u001b[0;34m.\u001b[0m\u001b[0mhistory\u001b[0m\u001b[0;34m[\u001b[0m\u001b[0;34m'val_loss'\u001b[0m\u001b[0;34m]\u001b[0m\u001b[0;34m\u001b[0m\u001b[0;34m\u001b[0m\u001b[0m\n\u001b[1;32m      5\u001b[0m \u001b[0;34m\u001b[0m\u001b[0m\n",
            "\u001b[0;31mNameError\u001b[0m: name 'training3' is not defined"
          ]
        }
      ]
    },
    {
      "cell_type": "markdown",
      "metadata": {
        "id": "OwJtjK4P9O3z"
      },
      "source": [
        "Es zeigt sich, dass das Modell nach ungefähr 15 Epochen überangepasst ist. Eine Überanpassung ist aber auch erwartet worden. Nun folgt das Anpassen der Hyperparameter."
      ]
    },
    {
      "cell_type": "markdown",
      "metadata": {
        "id": "e4JN49T29a08"
      },
      "source": [
        "### **5. Regularisierung des Modells und Abstimmung der Hyperparameter**"
      ]
    },
    {
      "cell_type": "markdown",
      "metadata": {
        "id": "L8zLmVGo9thc"
      },
      "source": [
        "Um die Hyperparameter anzupassen stellt die Keras-Bibliothek einen hilfreichen Tuner bereit. Dieser soll hier genutzt werden. Die Hyperparameter betrifft in diesem Fall die Größe der Schichten, also die Anzahl der Neuronen. Außerdem soll die Lernrate verbessert werden."
      ]
    },
    {
      "cell_type": "code",
      "metadata": {
        "id": "ePFK957Acd70",
        "outputId": "8cb15885-9404-4f08-fbc4-589744230dd8",
        "colab": {
          "base_uri": "https://localhost:8080/",
          "height": 51
        }
      },
      "source": [
        "train_data = ImageDataGenerator (\n",
        "    rotation_range=30,\n",
        "    horizontal_flip=True,\n",
        "    vertical_flip=True,\n",
        "    rescale=1. /1024)\n",
        "\n",
        "train_generator3 = train_data.flow_from_directory(\n",
        "    \"/content/drive/My Drive/Colab Notebooks/Bilddaten/Training\",\n",
        "    target_size=(500, 500),\n",
        "    class_mode=\"binary\",\n",
        "    batch_size = 32,)\n",
        "\n",
        "\n",
        "validation_data = ImageDataGenerator (\n",
        "    rotation_range=30,\n",
        "    horizontal_flip=True,\n",
        "    vertical_flip=True,\n",
        "    rescale=1. /1024)\n",
        "\n",
        "validation_generator3 = validation_data.flow_from_directory(\n",
        "    \"/content/drive/My Drive/Colab Notebooks/Bilddaten/Validation\",\n",
        "    target_size=(500, 500),\n",
        "    class_mode=\"binary\",\n",
        "    batch_size = 30)"
      ],
      "execution_count": null,
      "outputs": [
        {
          "output_type": "stream",
          "text": [
            "Found 1280 images belonging to 2 classes.\n",
            "Found 300 images belonging to 2 classes.\n"
          ],
          "name": "stdout"
        }
      ]
    },
    {
      "cell_type": "code",
      "metadata": {
        "id": "ABJgs2UZ-Shp"
      },
      "source": [
        "def model_builder(hp):\n",
        "  hp_units = hp.Int(\"units\", min_value = 8, max_value = 512, step = 8)\n",
        "  hp_units2 = hp.Int(\"units\", min_value = 128, max_value= 2048, step = 128)\n",
        "  third_model = keras.Sequential([\n",
        "  keras.layers.Conv2D(hp_units, (3,3), activation=\"relu\", input_shape = (500,500,3)),\n",
        "  keras.layers.MaxPooling2D(2,2),\n",
        "  keras.layers.Conv2D(hp_units, (3,3),activation=\"relu\"),\n",
        "  keras.layers.MaxPooling2D(2,2),\n",
        "  keras.layers.Conv2D(hp_units, (3,3),activation=\"relu\"),\n",
        "  keras.layers.MaxPooling2D(2,2),\n",
        "  keras.layers.Flatten(),\n",
        "  keras.layers.Dense(hp_units2, activation=\"relu\"),\n",
        "  keras.layers.Dense(1, activation=\"sigmoid\")\n",
        "  ])\n",
        "  hp_learning_rate = hp.Choice(\"learning_rate\", values = [0.01, 0.001, 0.0001, 0.005, 0.0005])\n",
        "  third_model.compile(optimizer = keras.optimizers.Adam(learning_rate= hp_learning_rate), loss = \"binary_crossentropy\", metrics = [\"accuracy\"])\n",
        "  return third_model"
      ],
      "execution_count": null,
      "outputs": []
    },
    {
      "cell_type": "code",
      "metadata": {
        "id": "K9dqTp1aDiuf",
        "outputId": "3a9818be-2b5d-43c5-c3fa-4cf82d300a90",
        "colab": {
          "base_uri": "https://localhost:8080/",
          "height": 34
        }
      },
      "source": [
        "tuner = kt.Hyperband(model_builder,\n",
        "                     objective = \"val_accuracy\",\n",
        "                     max_epochs = 40,\n",
        "                     factor = 2,\n",
        "                     directory = \"Hyperband\",\n",
        "                     project_name = \"Versuch10\")\n",
        "print(\"läuft\")"
      ],
      "execution_count": null,
      "outputs": [
        {
          "output_type": "stream",
          "text": [
            "läuft\n"
          ],
          "name": "stdout"
        }
      ]
    },
    {
      "cell_type": "code",
      "metadata": {
        "id": "SKelQSKXF9BU",
        "outputId": "fb83f6c0-108c-4295-ebb7-48dd5df5adf2",
        "colab": {
          "base_uri": "https://localhost:8080/",
          "height": 34
        }
      },
      "source": [
        "hps= tuner.search(train_generator3,\n",
        "                  validation_data = validation_generator3,\n",
        "                  epochs = 40,\n",
        "                  callbacks = [tf.keras.callbacks.EarlyStopping(patience=1)])"
      ],
      "execution_count": null,
      "outputs": [
        {
          "output_type": "stream",
          "text": [
            "Epoch 1/2\n"
          ],
          "name": "stdout"
        }
      ]
    },
    {
      "cell_type": "code",
      "metadata": {
        "id": "d-1q4NZmILJp"
      },
      "source": [
        "tuner.results_summary()"
      ],
      "execution_count": null,
      "outputs": []
    },
    {
      "cell_type": "markdown",
      "metadata": {
        "id": "kfRca8HjLv86"
      },
      "source": [
        "**Der Kerastuner liefert keine eindeutigen Ergebnisse.** Deshalb werden verschiedene Hyperparameter systematisch ausprobiert, um das Modell zu verbessern. Gestartet wird dabei mit dem ersten Ergebnis des Tuners. Dabei wird eine Lernrate von 0,005 eingestellt und mit jeder Schicht sinkt die Anzahl der Neuronen um 8."
      ]
    },
    {
      "cell_type": "code",
      "metadata": {
        "id": "tUIvlmLlMtw3",
        "outputId": "f4917cda-b526-4856-e414-df884fe42613",
        "colab": {
          "base_uri": "https://localhost:8080/",
          "height": 459
        }
      },
      "source": [
        "fourth_model = tf.keras.models.Sequential([tf.keras.layers.Conv2D(3, (3,3),activation=\"relu\",\n",
        "                                                                     input_shape=(500,500,3)),\n",
        "                                       tf.keras.layers.MaxPooling2D(2,2),\n",
        "                                       tf.keras.layers.Conv2D(6, (3,3), activation=\"relu\"),\n",
        "                                       tf.keras.layers.MaxPooling2D(2,2),\n",
        "                                       tf.keras.layers.Conv2D(9, (3,3), activation=\"relu\"),\n",
        "                                       tf.keras.layers.MaxPooling2D(2,2),\n",
        "                                       tf.keras.layers.Flatten(),\n",
        "                                       tf.keras.layers.Dense(512, activation=\"relu\"),\n",
        "                                       tf.keras.layers.Dense(1, activation=\"sigmoid\")\n",
        "                                       ])\n",
        "fourth_model.summary()\n",
        "fourth_model.compile(loss=\"binary_crossentropy\",\n",
        "                  optimizer= Adam(lr=0.001),\n",
        "                  metrics=[\"accuracy\"])"
      ],
      "execution_count": null,
      "outputs": [
        {
          "output_type": "stream",
          "text": [
            "Model: \"sequential\"\n",
            "_________________________________________________________________\n",
            "Layer (type)                 Output Shape              Param #   \n",
            "=================================================================\n",
            "conv2d (Conv2D)              (None, 498, 498, 3)       84        \n",
            "_________________________________________________________________\n",
            "max_pooling2d (MaxPooling2D) (None, 249, 249, 3)       0         \n",
            "_________________________________________________________________\n",
            "conv2d_1 (Conv2D)            (None, 247, 247, 6)       168       \n",
            "_________________________________________________________________\n",
            "max_pooling2d_1 (MaxPooling2 (None, 123, 123, 6)       0         \n",
            "_________________________________________________________________\n",
            "conv2d_2 (Conv2D)            (None, 121, 121, 9)       495       \n",
            "_________________________________________________________________\n",
            "max_pooling2d_2 (MaxPooling2 (None, 60, 60, 9)         0         \n",
            "_________________________________________________________________\n",
            "flatten (Flatten)            (None, 32400)             0         \n",
            "_________________________________________________________________\n",
            "dense (Dense)                (None, 512)               16589312  \n",
            "_________________________________________________________________\n",
            "dense_1 (Dense)              (None, 1)                 513       \n",
            "=================================================================\n",
            "Total params: 16,590,572\n",
            "Trainable params: 16,590,572\n",
            "Non-trainable params: 0\n",
            "_________________________________________________________________\n"
          ],
          "name": "stdout"
        }
      ]
    },
    {
      "cell_type": "code",
      "metadata": {
        "id": "aH6K5Dq_NRuP",
        "outputId": "d7ca441f-ec33-4ebe-c8a6-d035048bb4f3",
        "colab": {
          "base_uri": "https://localhost:8080/",
          "height": 1000
        }
      },
      "source": [
        "training4 = fourth_model.fit(\n",
        "    train_generator3,\n",
        "    validation_data = validation_generator3,\n",
        "    epochs = 40,\n",
        "    steps_per_epoch = 40,\n",
        "    validation_steps = 10,\n",
        "    verbose = 1)"
      ],
      "execution_count": null,
      "outputs": [
        {
          "output_type": "stream",
          "text": [
            "Epoch 1/40\n",
            "40/40 [==============================] - 761s 19s/step - loss: 0.6508 - accuracy: 0.6023 - val_loss: 0.5611 - val_accuracy: 0.6733\n",
            "Epoch 2/40\n",
            "40/40 [==============================] - 248s 6s/step - loss: 0.5123 - accuracy: 0.7547 - val_loss: 0.6510 - val_accuracy: 0.7933\n",
            "Epoch 3/40\n",
            "40/40 [==============================] - 248s 6s/step - loss: 0.4572 - accuracy: 0.8016 - val_loss: 0.6266 - val_accuracy: 0.7367\n",
            "Epoch 4/40\n",
            "40/40 [==============================] - 249s 6s/step - loss: 0.4372 - accuracy: 0.8047 - val_loss: 0.6347 - val_accuracy: 0.7333\n",
            "Epoch 5/40\n",
            "40/40 [==============================] - 251s 6s/step - loss: 0.4075 - accuracy: 0.8258 - val_loss: 0.5905 - val_accuracy: 0.7467\n",
            "Epoch 6/40\n",
            "40/40 [==============================] - 250s 6s/step - loss: 0.4018 - accuracy: 0.8438 - val_loss: 0.6312 - val_accuracy: 0.7867\n",
            "Epoch 7/40\n",
            "40/40 [==============================] - 252s 6s/step - loss: 0.3617 - accuracy: 0.8703 - val_loss: 0.7031 - val_accuracy: 0.6833\n",
            "Epoch 8/40\n",
            "40/40 [==============================] - 250s 6s/step - loss: 0.2936 - accuracy: 0.8867 - val_loss: 0.8636 - val_accuracy: 0.6300\n",
            "Epoch 9/40\n",
            "40/40 [==============================] - 250s 6s/step - loss: 0.3333 - accuracy: 0.8766 - val_loss: 0.5724 - val_accuracy: 0.7100\n",
            "Epoch 10/40\n",
            "40/40 [==============================] - 250s 6s/step - loss: 0.2734 - accuracy: 0.8945 - val_loss: 0.6124 - val_accuracy: 0.7267\n",
            "Epoch 11/40\n",
            "40/40 [==============================] - 248s 6s/step - loss: 0.2465 - accuracy: 0.9086 - val_loss: 0.6584 - val_accuracy: 0.7133\n",
            "Epoch 12/40\n",
            "40/40 [==============================] - 249s 6s/step - loss: 0.1920 - accuracy: 0.9250 - val_loss: 0.6569 - val_accuracy: 0.7133\n",
            "Epoch 13/40\n",
            "40/40 [==============================] - 249s 6s/step - loss: 0.1826 - accuracy: 0.9250 - val_loss: 0.8464 - val_accuracy: 0.7333\n",
            "Epoch 14/40\n",
            "40/40 [==============================] - 252s 6s/step - loss: 0.2141 - accuracy: 0.9047 - val_loss: 0.6282 - val_accuracy: 0.7767\n",
            "Epoch 15/40\n",
            "40/40 [==============================] - 249s 6s/step - loss: 0.1898 - accuracy: 0.9320 - val_loss: 0.6706 - val_accuracy: 0.7867\n",
            "Epoch 16/40\n",
            "40/40 [==============================] - 249s 6s/step - loss: 0.1269 - accuracy: 0.9563 - val_loss: 0.7900 - val_accuracy: 0.7967\n",
            "Epoch 17/40\n",
            "40/40 [==============================] - 249s 6s/step - loss: 0.1208 - accuracy: 0.9523 - val_loss: 0.7421 - val_accuracy: 0.7900\n",
            "Epoch 18/40\n",
            "40/40 [==============================] - 251s 6s/step - loss: 0.1672 - accuracy: 0.9297 - val_loss: 1.0004 - val_accuracy: 0.6833\n",
            "Epoch 19/40\n",
            "40/40 [==============================] - 250s 6s/step - loss: 0.1562 - accuracy: 0.9406 - val_loss: 0.6081 - val_accuracy: 0.8200\n",
            "Epoch 20/40\n",
            "40/40 [==============================] - 252s 6s/step - loss: 0.1075 - accuracy: 0.9492 - val_loss: 0.6171 - val_accuracy: 0.8300\n",
            "Epoch 21/40\n",
            "40/40 [==============================] - 250s 6s/step - loss: 0.1048 - accuracy: 0.9602 - val_loss: 0.6846 - val_accuracy: 0.7733\n",
            "Epoch 22/40\n",
            "40/40 [==============================] - 250s 6s/step - loss: 0.0776 - accuracy: 0.9695 - val_loss: 0.5595 - val_accuracy: 0.8267\n",
            "Epoch 23/40\n",
            "40/40 [==============================] - 251s 6s/step - loss: 0.1215 - accuracy: 0.9484 - val_loss: 0.6950 - val_accuracy: 0.7900\n",
            "Epoch 24/40\n",
            "40/40 [==============================] - 251s 6s/step - loss: 0.1242 - accuracy: 0.9477 - val_loss: 0.8140 - val_accuracy: 0.7967\n",
            "Epoch 25/40\n",
            "40/40 [==============================] - 249s 6s/step - loss: 0.1152 - accuracy: 0.9570 - val_loss: 0.6929 - val_accuracy: 0.8067\n",
            "Epoch 26/40\n",
            "40/40 [==============================] - 249s 6s/step - loss: 0.0941 - accuracy: 0.9602 - val_loss: 0.6558 - val_accuracy: 0.8333\n",
            "Epoch 27/40\n",
            "40/40 [==============================] - 251s 6s/step - loss: 0.0756 - accuracy: 0.9711 - val_loss: 0.6553 - val_accuracy: 0.8067\n",
            "Epoch 28/40\n",
            "40/40 [==============================] - 249s 6s/step - loss: 0.0706 - accuracy: 0.9750 - val_loss: 0.8356 - val_accuracy: 0.7600\n",
            "Epoch 29/40\n",
            "40/40 [==============================] - 251s 6s/step - loss: 0.0670 - accuracy: 0.9688 - val_loss: 0.5778 - val_accuracy: 0.8400\n",
            "Epoch 30/40\n",
            "40/40 [==============================] - 248s 6s/step - loss: 0.0711 - accuracy: 0.9672 - val_loss: 0.9349 - val_accuracy: 0.7667\n",
            "Epoch 31/40\n",
            "40/40 [==============================] - 251s 6s/step - loss: 0.0591 - accuracy: 0.9773 - val_loss: 0.7536 - val_accuracy: 0.8133\n",
            "Epoch 32/40\n",
            "40/40 [==============================] - 249s 6s/step - loss: 0.0502 - accuracy: 0.9781 - val_loss: 0.7698 - val_accuracy: 0.8167\n",
            "Epoch 33/40\n",
            "40/40 [==============================] - 250s 6s/step - loss: 0.0542 - accuracy: 0.9797 - val_loss: 0.9128 - val_accuracy: 0.7833\n",
            "Epoch 34/40\n",
            "40/40 [==============================] - 250s 6s/step - loss: 0.0672 - accuracy: 0.9734 - val_loss: 0.6711 - val_accuracy: 0.7800\n",
            "Epoch 35/40\n",
            "40/40 [==============================] - 251s 6s/step - loss: 0.0649 - accuracy: 0.9750 - val_loss: 0.6276 - val_accuracy: 0.8133\n",
            "Epoch 36/40\n",
            "40/40 [==============================] - 250s 6s/step - loss: 0.0497 - accuracy: 0.9742 - val_loss: 0.6528 - val_accuracy: 0.8467\n",
            "Epoch 37/40\n",
            "40/40 [==============================] - 251s 6s/step - loss: 0.0423 - accuracy: 0.9836 - val_loss: 0.6550 - val_accuracy: 0.8367\n",
            "Epoch 38/40\n",
            "40/40 [==============================] - 251s 6s/step - loss: 0.0464 - accuracy: 0.9836 - val_loss: 0.8164 - val_accuracy: 0.7733\n",
            "Epoch 39/40\n",
            "40/40 [==============================] - 250s 6s/step - loss: 0.0449 - accuracy: 0.9836 - val_loss: 0.8996 - val_accuracy: 0.7800\n",
            "Epoch 40/40\n",
            "40/40 [==============================] - 252s 6s/step - loss: 0.0501 - accuracy: 0.9797 - val_loss: 0.8025 - val_accuracy: 0.7900\n"
          ],
          "name": "stdout"
        }
      ]
    },
    {
      "cell_type": "code",
      "metadata": {
        "id": "rLgBaKCNP6lu"
      },
      "source": [
        "fourth_model.save(\"/content/drive/My Drive/Colab Notebooks/saved Nets/Alle Bilder_40Epochs_System_5.h5\")"
      ],
      "execution_count": null,
      "outputs": []
    },
    {
      "cell_type": "code",
      "metadata": {
        "id": "ECC_MjoOUS0c",
        "outputId": "03f8afcf-b3b2-4b26-ac5c-804dc1a7c19e",
        "colab": {
          "base_uri": "https://localhost:8080/",
          "height": 545
        }
      },
      "source": [
        "acc = training4.history['accuracy']\n",
        "val_acc = training4.history['val_accuracy']\n",
        "loss = training4.history['loss']\n",
        "val_loss = training4.history['val_loss']\n",
        "\n",
        "epochs = range(len(acc))\n",
        "\n",
        "plt.plot(epochs, acc, 'bo', label='Training accuracy')\n",
        "plt.plot(epochs, val_acc, 'b', label='Validation accuracy')\n",
        "plt.title('Training and validation accuracy')\n",
        "\n",
        "plt.figure()\n",
        "\n",
        "plt.plot(epochs, loss, 'bo', label='Training Loss')\n",
        "plt.plot(epochs, val_loss, 'b', label='Validation Loss')\n",
        "plt.title('Training and validation loss')\n",
        "plt.legend()\n",
        "\n",
        "plt.show()"
      ],
      "execution_count": null,
      "outputs": [
        {
          "output_type": "display_data",
          "data": {
            "image/png": "[encoded data removed]",
            "text/plain": [
              "<Figure size 432x288 with 1 Axes>"
            ]
          },
          "metadata": {
            "tags": [],
            "needs_background": "light"
          }
        },
        {
          "output_type": "display_data",
          "data": {
            "image/png": "[encoded data removed]",
            "text/plain": [
              "<Figure size 432x288 with 1 Axes>"
            ]
          },
          "metadata": {
            "tags": [],
            "needs_background": "light"
          }
        }
      ]
    },
    {
      "cell_type": "markdown",
      "metadata": {
        "id": "UhL_LPRCDo92"
      },
      "source": [
        "Auf Testset 2/17 falsch klassifiziert. siehe unten"
      ]
    },
    {
      "cell_type": "code",
      "metadata": {
        "id": "jOiaUg_7MdnV",
        "outputId": "69b01ed6-5daf-43fa-e3af-a36652517170",
        "colab": {
          "resources": {
            "http://localhost:8080/nbextensions/google.colab/files.js": {
              "data": "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",
              "ok": true,
              "headers": [
                [
                  "content-type",
                  "application/javascript"
                ]
              ],
              "status": 200,
              "status_text": ""
            }
          },
          "base_uri": "https://localhost:8080/",
          "height": 514
        }
      },
      "source": [
        "pred_model = tf.keras.models.load_model(\"/content/drive/My Drive/Colab Notebooks/saved Nets/Alle Bilder_40Epochs_System_5.h5\")\n",
        "\n",
        "uploaded = files.upload()\n",
        "\n",
        "for fn in uploaded.keys():\n",
        " \n",
        "  # predicting images\n",
        "  path = '/content/' + fn\n",
        "  img = image.load_img(path, target_size=(500, 500))\n",
        "  x = image.img_to_array(img)\n",
        "  x = x / 1024\n",
        "  x = np.expand_dims(x, axis=0)\n",
        "  images = np.vstack([x])\n",
        "  classes = pred_model.predict(images, batch_size=10)\n",
        "  print(classes[0])\n",
        "  if classes[0]>0.5:\n",
        "    print(fn + \" ist herstellbar\")\n",
        "  else:\n",
        "    print(fn + \" ist defekt\")"
      ],
      "execution_count": null,
      "outputs": [
        {
          "output_type": "display_data",
          "data": {
            "text/html": [
              "\n",
              "     <input type=\"file\" id=\"files-737343a4-90b5-4b64-8c10-968f50d58845\" name=\"files[]\" multiple disabled\n",
              "        style=\"border:none\" />\n",
              "     <output id=\"result-737343a4-90b5-4b64-8c10-968f50d58845\">\n",
              "      Upload widget is only available when the cell has been executed in the\n",
              "      current browser session. Please rerun this cell to enable.\n",
              "      </output>\n",
              "      <script src=\"/nbextensions/google.colab/files.js\"></script> "
            ],
            "text/plain": [
              "<IPython.core.display.HTML object>"
            ]
          },
          "metadata": {
            "tags": []
          }
        },
        {
          "output_type": "stream",
          "text": [
            "Saving OW_PC_V1_35_io.jpg to OW_PC_V1_35_io (2).jpg\n",
            "Saving OW_PC_V2_3_io.jpg to OW_PC_V2_3_io (2).jpg\n",
            "Saving UH_PA3200GF_V1_12_io.jpg to UH_PA3200GF_V1_12_io (2).jpg\n",
            "Saving UH_PA3200GF_V1_20_io.jpg to UH_PA3200GF_V1_20_io (2).jpg\n",
            "Saving UH_PA3200GF_V1_50_io.jpg to UH_PA3200GF_V1_50_io (2).jpg\n",
            "Saving UH_PA3200GF_V3_14_io.jpg to UH_PA3200GF_V3_14_io (2).jpg\n",
            "Saving UH_PA3200GF_V3_100_io.jpg to UH_PA3200GF_V3_100_io (2).jpg\n",
            "[0.8756677]\n",
            "OW_PC_V1_35_io.jpg ist herstellbar\n",
            "[0.8879612]\n",
            "OW_PC_V2_3_io.jpg ist herstellbar\n",
            "[0.99660957]\n",
            "UH_PA3200GF_V1_12_io.jpg ist herstellbar\n",
            "[0.99991477]\n",
            "UH_PA3200GF_V1_20_io.jpg ist herstellbar\n",
            "[0.9999399]\n",
            "UH_PA3200GF_V1_50_io.jpg ist herstellbar\n",
            "[0.9959326]\n",
            "UH_PA3200GF_V3_14_io.jpg ist herstellbar\n",
            "[0.99991333]\n",
            "UH_PA3200GF_V3_100_io.jpg ist herstellbar\n"
          ],
          "name": "stdout"
        }
      ]
    },
    {
      "cell_type": "markdown",
      "metadata": {
        "id": "jTyoqX8ptn7m"
      },
      "source": [
        "**Funktioniert auch mit kleinerer Auflösung?!**\n"
      ]
    },
    {
      "cell_type": "code",
      "metadata": {
        "id": "27BYW29gl6Oi",
        "outputId": "50696ec0-8509-4222-f87d-cc170b326dfe",
        "colab": {
          "base_uri": "https://localhost:8080/",
          "height": 1000
        }
      },
      "source": [
        "train_data = ImageDataGenerator (\n",
        "    rotation_range=30,\n",
        "    horizontal_flip=True,\n",
        "    vertical_flip=True,\n",
        "    rescale=1. /1024)\n",
        "\n",
        "train_generator6 = train_data.flow_from_directory(\n",
        "    \"/content/drive/My Drive/Colab Notebooks/Bilddaten/Training\",\n",
        "    target_size=(150, 150),\n",
        "    class_mode=\"binary\",\n",
        "    batch_size = 32,)\n",
        "\n",
        "\n",
        "validation_data = ImageDataGenerator (\n",
        "    rotation_range=30,\n",
        "    horizontal_flip=True,\n",
        "    vertical_flip=True,\n",
        "    rescale=1. /1024)\n",
        "\n",
        "validation_generator6 = validation_data.flow_from_directory(\n",
        "    \"/content/drive/My Drive/Colab Notebooks/Bilddaten/Validation\",\n",
        "    target_size=(150, 150),\n",
        "    class_mode=\"binary\",\n",
        "    batch_size = 30)\n",
        "\n",
        "sixth_model = tf.keras.models.Sequential([tf.keras.layers.Conv2D(3, (3,3),activation=\"relu\",\n",
        "                                                                     input_shape=(150,150,3)),\n",
        "                                       tf.keras.layers.MaxPooling2D(2,2),\n",
        "                                       tf.keras.layers.Conv2D(6, (3,3), activation=\"relu\"),\n",
        "                                       tf.keras.layers.MaxPooling2D(2,2),\n",
        "                                       tf.keras.layers.Conv2D(9, (3,3), activation=\"relu\"),\n",
        "                                       tf.keras.layers.MaxPooling2D(2,2),\n",
        "                                       tf.keras.layers.Flatten(),\n",
        "                                       tf.keras.layers.Dense(512, activation=\"relu\"),\n",
        "                                       tf.keras.layers.Dense(1, activation=\"sigmoid\")\n",
        "                                       ])\n",
        "sixth_model.summary()\n",
        "sixth_model.compile(loss=\"binary_crossentropy\",\n",
        "                  optimizer= Adam(lr=0.001),\n",
        "                  metrics=[\"accuracy\"])\n",
        "\n",
        "training6 = sixth_model.fit(\n",
        "    train_generator6,\n",
        "    validation_data = validation_generator6,\n",
        "    epochs = 40,\n",
        "    steps_per_epoch = 40,\n",
        "    validation_steps = 10,\n",
        "    verbose = 1)\n",
        "\n",
        "sixth_model.save(\"/content/drive/My Drive/Colab Notebooks/saved Nets/Alle Bilder_22Epochs_System_6.h5\")\n",
        "\n",
        "acc = training6.history['accuracy']\n",
        "val_acc = training6.history['val_accuracy']\n",
        "loss = training6.history['loss']\n",
        "val_loss = training6.history['val_loss']\n",
        "\n",
        "epochs = range(len(acc))\n",
        "\n",
        "plt.plot(epochs, acc, 'bo', label='Training accuracy')\n",
        "plt.plot(epochs, val_acc, 'b', label='Validation accuracy')\n",
        "plt.title('Training and validation accuracy')\n",
        "\n",
        "plt.figure()\n",
        "\n",
        "plt.plot(epochs, loss, 'bo', label='Training Loss')\n",
        "plt.plot(epochs, val_loss, 'b', label='Validation Loss')\n",
        "plt.title('Training and validation loss')\n",
        "plt.legend()\n",
        "\n",
        "plt.show()"
      ],
      "execution_count": null,
      "outputs": [
        {
          "output_type": "stream",
          "text": [
            "Found 1280 images belonging to 2 classes.\n",
            "Found 300 images belonging to 2 classes.\n",
            "Model: \"sequential_2\"\n",
            "_________________________________________________________________\n",
            "Layer (type)                 Output Shape              Param #   \n",
            "=================================================================\n",
            "conv2d_6 (Conv2D)            (None, 148, 148, 3)       84        \n",
            "_________________________________________________________________\n",
            "max_pooling2d_6 (MaxPooling2 (None, 74, 74, 3)         0         \n",
            "_________________________________________________________________\n",
            "conv2d_7 (Conv2D)            (None, 72, 72, 6)         168       \n",
            "_________________________________________________________________\n",
            "max_pooling2d_7 (MaxPooling2 (None, 36, 36, 6)         0         \n",
            "_________________________________________________________________\n",
            "conv2d_8 (Conv2D)            (None, 34, 34, 9)         495       \n",
            "_________________________________________________________________\n",
            "max_pooling2d_8 (MaxPooling2 (None, 17, 17, 9)         0         \n",
            "_________________________________________________________________\n",
            "flatten_2 (Flatten)          (None, 2601)              0         \n",
            "_________________________________________________________________\n",
            "dense_4 (Dense)              (None, 512)               1332224   \n",
            "_________________________________________________________________\n",
            "dense_5 (Dense)              (None, 1)                 513       \n",
            "=================================================================\n",
            "Total params: 1,333,484\n",
            "Trainable params: 1,333,484\n",
            "Non-trainable params: 0\n",
            "_________________________________________________________________\n",
            "Epoch 1/40\n",
            "40/40 [==============================] - 48s 1s/step - loss: 0.6329 - accuracy: 0.5742 - val_loss: 0.5560 - val_accuracy: 0.7200\n",
            "Epoch 2/40\n",
            "40/40 [==============================] - 52s 1s/step - loss: 0.5554 - accuracy: 0.7148 - val_loss: 0.5839 - val_accuracy: 0.7133\n",
            "Epoch 3/40\n",
            "40/40 [==============================] - 48s 1s/step - loss: 0.5256 - accuracy: 0.7500 - val_loss: 0.5493 - val_accuracy: 0.7200\n",
            "Epoch 4/40\n",
            "40/40 [==============================] - 49s 1s/step - loss: 0.5055 - accuracy: 0.7711 - val_loss: 0.6607 - val_accuracy: 0.6133\n",
            "Epoch 5/40\n",
            "40/40 [==============================] - 48s 1s/step - loss: 0.4551 - accuracy: 0.7930 - val_loss: 0.6220 - val_accuracy: 0.7467\n",
            "Epoch 6/40\n",
            "40/40 [==============================] - 47s 1s/step - loss: 0.4454 - accuracy: 0.8078 - val_loss: 0.5832 - val_accuracy: 0.7067\n",
            "Epoch 7/40\n",
            "40/40 [==============================] - 47s 1s/step - loss: 0.4181 - accuracy: 0.8102 - val_loss: 0.6271 - val_accuracy: 0.7467\n",
            "Epoch 8/40\n",
            "40/40 [==============================] - 47s 1s/step - loss: 0.3987 - accuracy: 0.8281 - val_loss: 0.5737 - val_accuracy: 0.7267\n",
            "Epoch 9/40\n",
            "40/40 [==============================] - 48s 1s/step - loss: 0.3293 - accuracy: 0.8586 - val_loss: 0.6057 - val_accuracy: 0.7500\n",
            "Epoch 10/40\n",
            "40/40 [==============================] - 47s 1s/step - loss: 0.3158 - accuracy: 0.8781 - val_loss: 0.5785 - val_accuracy: 0.7367\n",
            "Epoch 11/40\n",
            "40/40 [==============================] - 47s 1s/step - loss: 0.3202 - accuracy: 0.8531 - val_loss: 0.6533 - val_accuracy: 0.7500\n",
            "Epoch 12/40\n",
            "40/40 [==============================] - 47s 1s/step - loss: 0.2917 - accuracy: 0.8766 - val_loss: 0.5091 - val_accuracy: 0.7400\n",
            "Epoch 13/40\n",
            "40/40 [==============================] - 47s 1s/step - loss: 0.2373 - accuracy: 0.9062 - val_loss: 0.7018 - val_accuracy: 0.7200\n",
            "Epoch 14/40\n",
            "40/40 [==============================] - 49s 1s/step - loss: 0.2677 - accuracy: 0.8828 - val_loss: 0.5258 - val_accuracy: 0.7533\n",
            "Epoch 15/40\n",
            "40/40 [==============================] - 48s 1s/step - loss: 0.2157 - accuracy: 0.9117 - val_loss: 0.5808 - val_accuracy: 0.7333\n",
            "Epoch 16/40\n",
            "40/40 [==============================] - 47s 1s/step - loss: 0.2151 - accuracy: 0.9086 - val_loss: 0.5508 - val_accuracy: 0.7433\n",
            "Epoch 17/40\n",
            "40/40 [==============================] - 47s 1s/step - loss: 0.2253 - accuracy: 0.9031 - val_loss: 0.5698 - val_accuracy: 0.7967\n",
            "Epoch 18/40\n",
            "40/40 [==============================] - 47s 1s/step - loss: 0.2017 - accuracy: 0.9117 - val_loss: 0.5308 - val_accuracy: 0.7300\n",
            "Epoch 19/40\n",
            "40/40 [==============================] - 47s 1s/step - loss: 0.1924 - accuracy: 0.9219 - val_loss: 0.5837 - val_accuracy: 0.7667\n",
            "Epoch 20/40\n",
            "40/40 [==============================] - 47s 1s/step - loss: 0.2047 - accuracy: 0.9211 - val_loss: 0.5189 - val_accuracy: 0.8033\n",
            "Epoch 21/40\n",
            "40/40 [==============================] - 47s 1s/step - loss: 0.2026 - accuracy: 0.9125 - val_loss: 0.6229 - val_accuracy: 0.7933\n",
            "Epoch 22/40\n",
            "40/40 [==============================] - 48s 1s/step - loss: 0.1878 - accuracy: 0.9164 - val_loss: 0.5217 - val_accuracy: 0.7600\n",
            "Epoch 23/40\n",
            "40/40 [==============================] - 48s 1s/step - loss: 0.1513 - accuracy: 0.9383 - val_loss: 0.6359 - val_accuracy: 0.7700\n",
            "Epoch 24/40\n",
            "40/40 [==============================] - 48s 1s/step - loss: 0.1640 - accuracy: 0.9352 - val_loss: 0.5673 - val_accuracy: 0.8067\n",
            "Epoch 25/40\n",
            "40/40 [==============================] - 47s 1s/step - loss: 0.1514 - accuracy: 0.9359 - val_loss: 0.5519 - val_accuracy: 0.7767\n",
            "Epoch 26/40\n",
            "40/40 [==============================] - 47s 1s/step - loss: 0.1445 - accuracy: 0.9461 - val_loss: 0.5231 - val_accuracy: 0.7900\n",
            "Epoch 27/40\n",
            "40/40 [==============================] - 50s 1s/step - loss: 0.1519 - accuracy: 0.9344 - val_loss: 0.6261 - val_accuracy: 0.7667\n",
            "Epoch 28/40\n",
            "40/40 [==============================] - 47s 1s/step - loss: 0.1473 - accuracy: 0.9320 - val_loss: 0.6784 - val_accuracy: 0.8000\n",
            "Epoch 29/40\n",
            "40/40 [==============================] - 48s 1s/step - loss: 0.1534 - accuracy: 0.9352 - val_loss: 0.5667 - val_accuracy: 0.7900\n",
            "Epoch 30/40\n",
            "40/40 [==============================] - 48s 1s/step - loss: 0.1352 - accuracy: 0.9500 - val_loss: 0.5396 - val_accuracy: 0.8100\n",
            "Epoch 31/40\n",
            "40/40 [==============================] - 47s 1s/step - loss: 0.1348 - accuracy: 0.9453 - val_loss: 0.7146 - val_accuracy: 0.7833\n",
            "Epoch 32/40\n",
            "40/40 [==============================] - 47s 1s/step - loss: 0.1318 - accuracy: 0.9461 - val_loss: 0.6206 - val_accuracy: 0.8067\n",
            "Epoch 33/40\n",
            "40/40 [==============================] - 47s 1s/step - loss: 0.1219 - accuracy: 0.9484 - val_loss: 0.5331 - val_accuracy: 0.7933\n",
            "Epoch 34/40\n",
            "40/40 [==============================] - 47s 1s/step - loss: 0.1177 - accuracy: 0.9523 - val_loss: 0.5980 - val_accuracy: 0.7833\n",
            "Epoch 35/40\n",
            "40/40 [==============================] - 48s 1s/step - loss: 0.1291 - accuracy: 0.9508 - val_loss: 0.6537 - val_accuracy: 0.7800\n",
            "Epoch 36/40\n",
            "40/40 [==============================] - 48s 1s/step - loss: 0.1238 - accuracy: 0.9469 - val_loss: 0.7168 - val_accuracy: 0.7867\n",
            "Epoch 37/40\n",
            "40/40 [==============================] - 47s 1s/step - loss: 0.1258 - accuracy: 0.9422 - val_loss: 0.5257 - val_accuracy: 0.7933\n",
            "Epoch 38/40\n",
            "40/40 [==============================] - 47s 1s/step - loss: 0.1071 - accuracy: 0.9523 - val_loss: 0.6458 - val_accuracy: 0.8333\n",
            "Epoch 39/40\n",
            "40/40 [==============================] - 50s 1s/step - loss: 0.1043 - accuracy: 0.9586 - val_loss: 0.5648 - val_accuracy: 0.8100\n",
            "Epoch 40/40\n",
            "40/40 [==============================] - 48s 1s/step - loss: 0.0914 - accuracy: 0.9648 - val_loss: 0.8863 - val_accuracy: 0.8100\n"
          ],
          "name": "stdout"
        },
        {
          "output_type": "display_data",
          "data": {
            "image/png": "[encoded data removed]",
            "text/plain": [
              "<Figure size 432x288 with 1 Axes>"
            ]
          },
          "metadata": {
            "tags": [],
            "needs_background": "light"
          }
        },
        {
          "output_type": "display_data",
          "data": {
            "image/png": "[encoded data removed]",
            "text/plain": [
              "<Figure size 432x288 with 1 Axes>"
            ]
          },
          "metadata": {
            "tags": [],
            "needs_background": "light"
          }
        }
      ]
    },
    {
      "cell_type": "markdown",
      "metadata": {
        "id": "BJmFj2TPNIJP"
      },
      "source": [
        "### **6. Testen des Modells**\n"
      ]
    },
    {
      "cell_type": "markdown",
      "metadata": {
        "id": "ggrujhArOOed"
      },
      "source": [
        "kleines Modell mit 150x150 Pixeln schneidet auf dem Testset gleich zum 500x500 Pixel Modell ab. Deshalb kleineres Modell bevorzugt. Genaue Auswertung siehe Excel"
      ]
    },
    {
      "cell_type": "code",
      "metadata": {
        "id": "TDzu_lUz9gzU",
        "outputId": "006d4928-6202-48e0-b1ef-0fac515eb153",
        "colab": {
          "resources": {
            "http://localhost:8080/nbextensions/google.colab/files.js": {
              "data": "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",
              "ok": true,
              "headers": [
                [
                  "content-type",
                  "application/javascript"
                ]
              ],
              "status": 200,
              "status_text": ""
            }
          },
          "base_uri": "https://localhost:8080/",
          "height": 446
        }
      },
      "source": [
        "pred_model = tf.keras.models.load_model(\"/content/drive/My Drive/Colab Notebooks/saved Nets/Alle Bilder_22Epochs_System_6.h5\")\n",
        "\n",
        "uploaded = files.upload()\n",
        "\n",
        "for fn in uploaded.keys():\n",
        " \n",
        "  # predicting images\n",
        "  path = '/content/' + fn\n",
        "  img = image.load_img(path, target_size=(150, 150))\n",
        "  x = image.img_to_array(img)\n",
        "  x = x / 1024\n",
        "  x = np.expand_dims(x, axis=0)\n",
        "  images = np.vstack([x])\n",
        "  classes = pred_model.predict(images, batch_size=10)\n",
        "  print(classes[0])\n",
        "  if classes[0]>0.75:\n",
        "    print(fn + \" ist herstellbar\")\n",
        "  elif classes[0]<0.25:\n",
        "      print(fn + \" ist defekt\")\n",
        "  else:\n",
        "    print(fn + \" ist unzureichend sicher\")"
      ],
      "execution_count": 4,
      "outputs": [
        {
          "output_type": "display_data",
          "data": {
            "text/html": [
              "\n",
              "     <input type=\"file\" id=\"files-3a0c453a-b7ac-40a6-8160-f870ada5583d\" name=\"files[]\" multiple disabled\n",
              "        style=\"border:none\" />\n",
              "     <output id=\"result-3a0c453a-b7ac-40a6-8160-f870ada5583d\">\n",
              "      Upload widget is only available when the cell has been executed in the\n",
              "      current browser session. Please rerun this cell to enable.\n",
              "      </output>\n",
              "      <script src=\"/nbextensions/google.colab/files.js\"></script> "
            ],
            "text/plain": [
              "<IPython.core.display.HTML object>"
            ]
          },
          "metadata": {
            "tags": []
          }
        },
        {
          "output_type": "stream",
          "text": [
            "Saving OW_Inc718_V2_30_io.jpg to OW_Inc718_V2_30_io.jpg\n",
            "Saving UH_PA3200GF_V1_12_io.jpg to UH_PA3200GF_V1_12_io.jpg\n",
            "Saving UH_PA3200GF_V1_20_io.jpg to UH_PA3200GF_V1_20_io.jpg\n",
            "Saving UH_PA3200GF_V1_50_io.jpg to UH_PA3200GF_V1_50_io.jpg\n",
            "Saving UH_PA3200GF_V3_14_io.jpg to UH_PA3200GF_V3_14_io.jpg\n",
            "Saving UH_PA3200GF_V3_100_io.jpg to UH_PA3200GF_V3_100_io.jpg\n",
            "[0.8873888]\n",
            "OW_Inc718_V2_30_io.jpg ist herstellbar\n",
            "[0.9976275]\n",
            "UH_PA3200GF_V1_12_io.jpg ist herstellbar\n",
            "[0.99994195]\n",
            "UH_PA3200GF_V1_20_io.jpg ist herstellbar\n",
            "[0.9869273]\n",
            "UH_PA3200GF_V1_50_io.jpg ist herstellbar\n",
            "[0.78048027]\n",
            "UH_PA3200GF_V3_14_io.jpg ist herstellbar\n",
            "[0.979117]\n",
            "UH_PA3200GF_V3_100_io.jpg ist herstellbar\n"
          ],
          "name": "stdout"
        }
      ]
    },
    {
      "cell_type": "markdown",
      "metadata": {
        "id": "6Dwzfa8k-3-F"
      },
      "source": [
        "2 von 10 falsch klassifiziert. -->hier nur defekte Probekörper Probleme bei PC (insbesondere Oberflächenwinkel?!)"
      ]
    },
    {
      "cell_type": "code",
      "metadata": {
        "id": "vgcBVoGp_C3z",
        "outputId": "a107dbc8-5451-4863-f8cf-3b1523f962f3",
        "colab": {
          "resources": {
            "http://localhost:8080/nbextensions/google.colab/files.js": {
              "data": "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",
              "ok": true,
              "headers": [
                [
                  "content-type",
                  "application/javascript"
                ]
              ],
              "status": 200,
              "status_text": ""
            }
          },
          "base_uri": "https://localhost:8080/",
          "height": 514
        }
      },
      "source": [
        "pred_model = tf.keras.models.load_model(\"/content/drive/My Drive/Colab Notebooks/saved Nets/Alle Bilder_22Epochs_System_6.h5\")\n",
        "\n",
        "uploaded = files.upload()\n",
        "\n",
        "for fn in uploaded.keys():\n",
        " \n",
        "  # predicting images\n",
        "  path = '/content/' + fn\n",
        "  img = image.load_img(path, target_size=(150, 150))\n",
        "  x = image.img_to_array(img)\n",
        "  x = x / 1024\n",
        "  x = np.expand_dims(x, axis=0)\n",
        "  images = np.vstack([x])\n",
        "  classes = pred_model.predict(images, batch_size=10)\n",
        "  print(classes[0])\n",
        "  if classes[0]>0.5:\n",
        "    print(fn + \" ist herstellbar\")\n",
        "  else:\n",
        "    print(fn + \" ist defekt\")"
      ],
      "execution_count": null,
      "outputs": [
        {
          "output_type": "display_data",
          "data": {
            "text/html": [
              "\n",
              "     <input type=\"file\" id=\"files-563d5d0e-7257-4dbb-b9fb-6efccc093176\" name=\"files[]\" multiple disabled\n",
              "        style=\"border:none\" />\n",
              "     <output id=\"result-563d5d0e-7257-4dbb-b9fb-6efccc093176\">\n",
              "      Upload widget is only available when the cell has been executed in the\n",
              "      current browser session. Please rerun this cell to enable.\n",
              "      </output>\n",
              "      <script src=\"/nbextensions/google.colab/files.js\"></script> "
            ],
            "text/plain": [
              "<IPython.core.display.HTML object>"
            ]
          },
          "metadata": {
            "tags": []
          }
        },
        {
          "output_type": "stream",
          "text": [
            "Saving OW_PC_V1_35_io.jpg to OW_PC_V1_35_io.jpg\n",
            "Saving OW_PC_V2_3_io.jpg to OW_PC_V2_3_io.jpg\n",
            "Saving UH_PA3200GF_V1_12_io.jpg to UH_PA3200GF_V1_12_io.jpg\n",
            "Saving UH_PA3200GF_V1_20_io.jpg to UH_PA3200GF_V1_20_io.jpg\n",
            "Saving UH_PA3200GF_V1_50_io.jpg to UH_PA3200GF_V1_50_io.jpg\n",
            "Saving UH_PA3200GF_V3_14_io.jpg to UH_PA3200GF_V3_14_io.jpg\n",
            "Saving UH_PA3200GF_V3_100_io.jpg to UH_PA3200GF_V3_100_io.jpg\n",
            "[0.5115189]\n",
            "OW_PC_V1_35_io.jpg ist herstellbar\n",
            "[0.8997581]\n",
            "OW_PC_V2_3_io.jpg ist herstellbar\n",
            "[0.9976275]\n",
            "UH_PA3200GF_V1_12_io.jpg ist herstellbar\n",
            "[0.99994195]\n",
            "UH_PA3200GF_V1_20_io.jpg ist herstellbar\n",
            "[0.9869273]\n",
            "UH_PA3200GF_V1_50_io.jpg ist herstellbar\n",
            "[0.78048027]\n",
            "UH_PA3200GF_V3_14_io.jpg ist herstellbar\n",
            "[0.979117]\n",
            "UH_PA3200GF_V3_100_io.jpg ist herstellbar\n"
          ],
          "name": "stdout"
        }
      ]
    },
    {
      "cell_type": "markdown",
      "metadata": {
        "id": "lNVTe4QS_TO8"
      },
      "source": [
        "7 von 7 richtig klassifiziert. --> hier nur herstellbare Probekörper.\n",
        "**Insgesamt ergibt sich eine Korrektklassifizierungsrate von 1-(2/17) = 88,24 % auf dem Testset**\n",
        "\n",
        "\n",
        "\n"
      ]
    },
    {
      "cell_type": "markdown",
      "metadata": {
        "id": "2V9p58XX_8dL"
      },
      "source": [
        "**Test mit allen Bildern der Oberflächenwinkel**"
      ]
    },
    {
      "cell_type": "code",
      "metadata": {
        "id": "uTr3g63e_wRl",
        "outputId": "afcb635b-f2e8-4e7c-9cdb-b18ceaef71de",
        "colab": {
          "resources": {
            "http://localhost:8080/nbextensions/google.colab/files.js": {
              "data": "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",
              "ok": true,
              "headers": [
                [
                  "content-type",
                  "application/javascript"
                ]
              ],
              "status": 200,
              "status_text": ""
            }
          },
          "base_uri": "https://localhost:8080/",
          "height": 1000
        }
      },
      "source": [
        "pred_model = tf.keras.models.load_model(\"/content/drive/My Drive/Colab Notebooks/saved Nets/Alle Bilder_22Epochs_System_6.h5\")\n",
        "\n",
        "uploaded = files.upload()\n",
        "\n",
        "for fn in uploaded.keys():\n",
        " \n",
        "  # predicting images\n",
        "  path = '/content/' + fn\n",
        "  img = image.load_img(path, target_size=(150, 150))\n",
        "  x = image.img_to_array(img)\n",
        "  x = x / 1024\n",
        "  x = np.expand_dims(x, axis=0)\n",
        "  images = np.vstack([x])\n",
        "  classes = pred_model.predict(images, batch_size=10)\n",
        "  print(classes[0])\n",
        "  if classes[0]>0.5:\n",
        "    print(fn + \" ist herstellbar\")\n",
        "  else:\n",
        "    print(fn + \" ist defekt\")"
      ],
      "execution_count": null,
      "outputs": [
        {
          "output_type": "display_data",
          "data": {
            "text/html": [
              "\n",
              "     <input type=\"file\" id=\"files-f489f562-ea35-4c82-b550-5d7679e4283e\" name=\"files[]\" multiple disabled\n",
              "        style=\"border:none\" />\n",
              "     <output id=\"result-f489f562-ea35-4c82-b550-5d7679e4283e\">\n",
              "      Upload widget is only available when the cell has been executed in the\n",
              "      current browser session. Please rerun this cell to enable.\n",
              "      </output>\n",
              "      <script src=\"/nbextensions/google.colab/files.js\"></script> "
            ],
            "text/plain": [
              "<IPython.core.display.HTML object>"
            ]
          },
          "metadata": {
            "tags": []
          }
        },
        {
          "output_type": "stream",
          "text": [
            "Saving OW_Inc718_V1_20_nio.jpg to OW_Inc718_V1_20_nio.jpg\n",
            "Saving OW_Inc718_V1_25_nio.jpg to OW_Inc718_V1_25_nio.jpg\n",
            "Saving OW_Inc718_V1_30_nio.jpg to OW_Inc718_V1_30_nio.jpg\n",
            "Saving OW_Inc718_V1_35_nio.jpg to OW_Inc718_V1_35_nio (1).jpg\n",
            "Saving OW_Inc718_V1_40_nio.jpg to OW_Inc718_V1_40_nio.jpg\n",
            "Saving OW_Inc718_V1_45_nio.jpg to OW_Inc718_V1_45_nio.jpg\n",
            "Saving OW_Inc718_V2_20_nio.jpg to OW_Inc718_V2_20_nio.jpg\n",
            "Saving OW_Inc718_V2_25_io.jpg to OW_Inc718_V2_25_io.jpg\n",
            "Saving OW_Inc718_V2_30_io.jpg to OW_Inc718_V2_30_io.jpg\n",
            "Saving OW_Inc718_V2_35_io.jpg to OW_Inc718_V2_35_io.jpg\n",
            "Saving OW_Inc718_V2_40_io.jpg to OW_Inc718_V2_40_io.jpg\n",
            "Saving OW_Inc718_V2_45_io.jpg to OW_Inc718_V2_45_io.jpg\n",
            "Saving OW_Inc718_V3_20_nio.jpg to OW_Inc718_V3_20_nio.jpg\n",
            "Saving OW_Inc718_V3_25_nio.jpg to OW_Inc718_V3_25_nio.jpg\n",
            "Saving OW_Inc718_V3_30_nio.jpg to OW_Inc718_V3_30_nio.jpg\n",
            "Saving OW_Inc718_V3_35_nio.jpg to OW_Inc718_V3_35_nio.jpg\n",
            "Saving OW_Inc718_V3_40_nio.jpg to OW_Inc718_V3_40_nio.jpg\n",
            "Saving OW_Inc718_V3_45_nio.jpg to OW_Inc718_V3_45_nio.jpg\n",
            "Saving OW_PC_V1_20_nio.jpg to OW_PC_V1_20_nio.jpg\n",
            "Saving OW_PC_V1_25_nio.jpg to OW_PC_V1_25_nio.jpg\n",
            "Saving OW_PC_V1_30_nio.jpg to OW_PC_V1_30_nio.jpg\n",
            "Saving OW_PC_V1_35_io.jpg to OW_PC_V1_35_io (1).jpg\n",
            "Saving OW_PC_V1_40_io.jpg to OW_PC_V1_40_io.jpg\n",
            "Saving OW_PC_V1_45_io.jpg to OW_PC_V1_45_io.jpg\n",
            "Saving OW_PC_V2_1_io.jpg to OW_PC_V2_1_io.jpg\n",
            "Saving OW_PC_V2_2_io.jpg to OW_PC_V2_2_io.jpg\n",
            "Saving OW_PC_V2_3_io.jpg to OW_PC_V2_3_io (1).jpg\n",
            "Saving OW_PC_V2_4_nio.jpg to OW_PC_V2_4_nio.jpg\n",
            "Saving OW_PC_V2_5_nio.jpg to OW_PC_V2_5_nio.jpg\n",
            "Saving OW_PC_V2_6_nio.jpg to OW_PC_V2_6_nio.jpg\n",
            "Saving OW_PC_V3_1_nio.jpg to OW_PC_V3_1_nio.jpg\n",
            "Saving OW_PC_V3_2_io.jpg to OW_PC_V3_2_io.jpg\n",
            "Saving OW_PC_V3_3_io.jpg to OW_PC_V3_3_io.jpg\n",
            "Saving OW_PC_V3_4_io.jpg to OW_PC_V3_4_io.jpg\n",
            "Saving OW_PC_V3_5_nio.jpg to OW_PC_V3_5_nio.jpg\n",
            "Saving OW_PC_V3_6_nio.jpg to OW_PC_V3_6_nio (1).jpg\n",
            "Saving OW_V5_20_nio.jpg to OW_V5_20_nio.jpg\n",
            "Saving OW_V5_25_nio.jpg to OW_V5_25_nio.jpg\n",
            "Saving OW_V5_30_nio.jpg to OW_V5_30_nio.jpg\n",
            "Saving OW_V5_35_nio.jpg to OW_V5_35_nio.jpg\n",
            "Saving OW_V5_40_unsicher_nio_evtl_als_bsp.jpg to OW_V5_40_unsicher_nio_evtl_als_bsp.jpg\n",
            "Saving OW_V5_45_io.jpg to OW_V5_45_io.jpg\n",
            "[2.0355386e-05]\n",
            "OW_Inc718_V1_20_nio.jpg ist defekt\n",
            "[2.435577e-07]\n",
            "OW_Inc718_V1_25_nio.jpg ist defekt\n",
            "[0.0002141]\n",
            "OW_Inc718_V1_30_nio.jpg ist defekt\n",
            "[0.49969822]\n",
            "OW_Inc718_V1_35_nio.jpg ist defekt\n",
            "[3.6062913e-05]\n",
            "OW_Inc718_V1_40_nio.jpg ist defekt\n",
            "[6.519789e-05]\n",
            "OW_Inc718_V1_45_nio.jpg ist defekt\n",
            "[0.00382841]\n",
            "OW_Inc718_V2_20_nio.jpg ist defekt\n",
            "[0.98960644]\n",
            "OW_Inc718_V2_25_io.jpg ist herstellbar\n",
            "[0.8873888]\n",
            "OW_Inc718_V2_30_io.jpg ist herstellbar\n",
            "[0.72648644]\n",
            "OW_Inc718_V2_35_io.jpg ist herstellbar\n",
            "[0.76845574]\n",
            "OW_Inc718_V2_40_io.jpg ist herstellbar\n",
            "[0.99739087]\n",
            "OW_Inc718_V2_45_io.jpg ist herstellbar\n",
            "[7.97455e-05]\n",
            "OW_Inc718_V3_20_nio.jpg ist defekt\n",
            "[5.374306e-07]\n",
            "OW_Inc718_V3_25_nio.jpg ist defekt\n",
            "[6.658685e-05]\n",
            "OW_Inc718_V3_30_nio.jpg ist defekt\n",
            "[0.05661851]\n",
            "OW_Inc718_V3_35_nio.jpg ist defekt\n",
            "[0.90220094]\n",
            "OW_Inc718_V3_40_nio.jpg ist herstellbar\n",
            "[0.7894043]\n",
            "OW_Inc718_V3_45_nio.jpg ist herstellbar\n",
            "[0.00292262]\n",
            "OW_PC_V1_20_nio.jpg ist defekt\n",
            "[0.02235213]\n",
            "OW_PC_V1_25_nio.jpg ist defekt\n",
            "[0.0980598]\n",
            "OW_PC_V1_30_nio.jpg ist defekt\n",
            "[0.5115189]\n",
            "OW_PC_V1_35_io.jpg ist herstellbar\n",
            "[0.8023448]\n",
            "OW_PC_V1_40_io.jpg ist herstellbar\n",
            "[0.79100287]\n",
            "OW_PC_V1_45_io.jpg ist herstellbar\n",
            "[0.24765396]\n",
            "OW_PC_V2_1_io.jpg ist defekt\n",
            "[0.6006235]\n",
            "OW_PC_V2_2_io.jpg ist herstellbar\n",
            "[0.8997581]\n",
            "OW_PC_V2_3_io.jpg ist herstellbar\n",
            "[0.5962585]\n",
            "OW_PC_V2_4_nio.jpg ist herstellbar\n",
            "[0.00078741]\n",
            "OW_PC_V2_5_nio.jpg ist defekt\n",
            "[0.52416426]\n",
            "OW_PC_V2_6_nio.jpg ist herstellbar\n",
            "[0.13389415]\n",
            "OW_PC_V3_1_nio.jpg ist defekt\n",
            "[0.5804498]\n",
            "OW_PC_V3_2_io.jpg ist herstellbar\n",
            "[0.8896417]\n",
            "OW_PC_V3_3_io.jpg ist herstellbar\n",
            "[0.98839843]\n",
            "OW_PC_V3_4_io.jpg ist herstellbar\n",
            "[0.40654093]\n",
            "OW_PC_V3_5_nio.jpg ist defekt\n",
            "[0.5372573]\n",
            "OW_PC_V3_6_nio.jpg ist herstellbar\n",
            "[6.687517e-06]\n",
            "OW_V5_20_nio.jpg ist defekt\n",
            "[3.2191451e-06]\n",
            "OW_V5_25_nio.jpg ist defekt\n",
            "[0.00048134]\n",
            "OW_V5_30_nio.jpg ist defekt\n",
            "[2.554946e-06]\n",
            "OW_V5_35_nio.jpg ist defekt\n",
            "[0.00809881]\n",
            "OW_V5_40_unsicher_nio_evtl_als_bsp.jpg ist defekt\n",
            "[0.00298405]\n",
            "OW_V5_45_io.jpg ist defekt\n"
          ],
          "name": "stdout"
        }
      ]
    },
    {
      "cell_type": "markdown",
      "metadata": {
        "id": "xRglRl3vCrnQ"
      },
      "source": [
        "**Test mit allen Bildern der Überhänge**"
      ]
    },
    {
      "cell_type": "code",
      "metadata": {
        "id": "Ow4RTXl7Cws1",
        "outputId": "81b86d99-4d32-45db-9390-cb86a3b38fb3",
        "colab": {
          "resources": {
            "http://localhost:8080/nbextensions/google.colab/files.js": {
              "data": "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",
              "ok": true,
              "headers": [
                [
                  "content-type",
                  "application/javascript"
                ]
              ],
              "status": 200,
              "status_text": ""
            }
          },
          "base_uri": "https://localhost:8080/",
          "height": 1000
        }
      },
      "source": [
        "pred_model = tf.keras.models.load_model(\"/content/drive/My Drive/Colab Notebooks/saved Nets/Alle Bilder_22Epochs_System_6.h5\")\n",
        "\n",
        "uploaded = files.upload()\n",
        "\n",
        "for fn in uploaded.keys():\n",
        " \n",
        "  # predicting images\n",
        "  path = '/content/' + fn\n",
        "  img = image.load_img(path, target_size=(150, 150))\n",
        "  x = image.img_to_array(img)\n",
        "  x = x / 1024\n",
        "  x = np.expand_dims(x, axis=0)\n",
        "  images = np.vstack([x])\n",
        "  classes = pred_model.predict(images, batch_size=10)\n",
        "  print(classes[0])\n",
        "  if classes[0]>0.5:\n",
        "    print(fn + \" ist herstellbar\")\n",
        "  else:\n",
        "    print(fn + \" ist defekt\")"
      ],
      "execution_count": null,
      "outputs": [
        {
          "output_type": "display_data",
          "data": {
            "text/html": [
              "\n",
              "     <input type=\"file\" id=\"files-0bff7958-8ac3-433b-b26d-a2c0f8811c91\" name=\"files[]\" multiple disabled\n",
              "        style=\"border:none\" />\n",
              "     <output id=\"result-0bff7958-8ac3-433b-b26d-a2c0f8811c91\">\n",
              "      Upload widget is only available when the cell has been executed in the\n",
              "      current browser session. Please rerun this cell to enable.\n",
              "      </output>\n",
              "      <script src=\"/nbextensions/google.colab/files.js\"></script> "
            ],
            "text/plain": [
              "<IPython.core.display.HTML object>"
            ]
          },
          "metadata": {
            "tags": []
          }
        },
        {
          "output_type": "stream",
          "text": [
            "Saving ubekannt_12_nio.jpg to ubekannt_12_nio (2).jpg\n",
            "Saving UH_Inc718_V1_02_io.jpg to UH_Inc718_V1_02_io.jpg\n",
            "Saving UH_Inc718_V1_04_nio.jpg to UH_Inc718_V1_04_nio.jpg\n",
            "Saving UH_Inc718_V1_06_nio.jpg to UH_Inc718_V1_06_nio.jpg\n",
            "Saving UH_Inc718_V1_08_nio.jpg to UH_Inc718_V1_08_nio.jpg\n",
            "Saving UH_Inc718_V1_10_nio.jpg to UH_Inc718_V1_10_nio.jpg\n",
            "Saving UH_Inc718_V1_12_nio.jpg to UH_Inc718_V1_12_nio.jpg\n",
            "Saving UH_Inc718_V1_14_nio.jpg to UH_Inc718_V1_14_nio.jpg\n",
            "Saving UH_Inc718_V1_16_nio.jpg to UH_Inc718_V1_16_nio (1).jpg\n",
            "Saving UH_Inc718_V1_18_nio.jpg to UH_Inc718_V1_18_nio.jpg\n",
            "Saving UH_Inc718_V1_20_nio.jpg to UH_Inc718_V1_20_nio (1).jpg\n",
            "Saving UH_Inc718_V1_30_nio.jpg to UH_Inc718_V1_30_nio.jpg\n",
            "Saving UH_Inc718_V2_02_nio.jpg to UH_Inc718_V2_02_nio.jpg\n",
            "Saving UH_Inc718_V2_04_nio.jpg to UH_Inc718_V2_04_nio.jpg\n",
            "Saving UH_Inc718_V2_06_nio.jpg to UH_Inc718_V2_06_nio.jpg\n",
            "Saving UH_Inc718_V2_08_nio.jpg to UH_Inc718_V2_08_nio.jpg\n",
            "Saving UH_Inc718_V2_10_nio.jpg to UH_Inc718_V2_10_nio (1).jpg\n",
            "Saving UH_Inc718_V2_12_nio.jpg to UH_Inc718_V2_12_nio.jpg\n",
            "Saving UH_Inc718_V2_14_nio.jpg to UH_Inc718_V2_14_nio.jpg\n",
            "Saving UH_Inc718_V2_16_nio.jpg to UH_Inc718_V2_16_nio.jpg\n",
            "Saving UH_Inc718_V2_18_nio.jpg to UH_Inc718_V2_18_nio.jpg\n",
            "Saving UH_Inc718_V2_20_nio.jpg to UH_Inc718_V2_20_nio.jpg\n",
            "Saving UH_Inc718_V2_30_nio.jpg to UH_Inc718_V2_30_nio.jpg\n",
            "Saving UH_Inc718_V2_40_nio.jpg to UH_Inc718_V2_40_nio.jpg\n",
            "Saving UH_Inc718_V3_02_unsicher.jpg to UH_Inc718_V3_02_unsicher.jpg\n",
            "Saving UH_Inc718_V3_04_nio.jpg to UH_Inc718_V3_04_nio.jpg\n",
            "Saving UH_Inc718_V3_06_nio.jpg to UH_Inc718_V3_06_nio.jpg\n",
            "Saving UH_Inc718_V3_08_nio.jpg to UH_Inc718_V3_08_nio.jpg\n",
            "Saving UH_Inc718_V3_10_nio.jpg to UH_Inc718_V3_10_nio.jpg\n",
            "Saving UH_Inc718_V3_12_nio.jpg to UH_Inc718_V3_12_nio.jpg\n",
            "Saving UH_Inc718_V3_14_nio.jpg to UH_Inc718_V3_14_nio.jpg\n",
            "Saving UH_Inc718_V3_16_nio.jpg to UH_Inc718_V3_16_nio.jpg\n",
            "Saving UH_Inc718_V3_18_nio.jpg to UH_Inc718_V3_18_nio.jpg\n",
            "Saving UH_Inc718_V3_20_nio.jpg to UH_Inc718_V3_20_nio (1).jpg\n",
            "Saving UH_Inc718_V3_30_nio.jpg to UH_Inc718_V3_30_nio.jpg\n",
            "Saving UH_Inc718_V3_40_nio.jpg to UH_Inc718_V3_40_nio.jpg\n",
            "Saving UH_PA2200_V1_02_io.jpg to UH_PA2200_V1_02_io.jpg\n",
            "Saving UH_PA2200_V1_04_io.jpg to UH_PA2200_V1_04_io.jpg\n",
            "Saving UH_PA2200_V1_06_io.jpg to UH_PA2200_V1_06_io.jpg\n",
            "Saving UH_PA2200_V1_08_io.jpg to UH_PA2200_V1_08_io.jpg\n",
            "Saving UH_PA2200_V1_10_io.jpg to UH_PA2200_V1_10_io.jpg\n",
            "Saving UH_PA2200_V1_12_io.jpg to UH_PA2200_V1_12_io.jpg\n",
            "Saving UH_PA2200_V1_14_io.jpg to UH_PA2200_V1_14_io.jpg\n",
            "Saving UH_PA2200_V1_16_io.jpg to UH_PA2200_V1_16_io.jpg\n",
            "Saving UH_PA2200_V1_18_io.jpg to UH_PA2200_V1_18_io.jpg\n",
            "Saving UH_PA2200_V1_20_io.jpg to UH_PA2200_V1_20_io.jpg\n",
            "Saving UH_PA2200_V1_30_io.jpg to UH_PA2200_V1_30_io.jpg\n",
            "Saving UH_PA2200_V1_40_io.jpg to UH_PA2200_V1_40_io.jpg\n",
            "Saving UH_PA2200_V1_50_io.jpg to UH_PA2200_V1_50_io.jpg\n",
            "Saving UH_PA2200_V1_60_io.jpg to UH_PA2200_V1_60_io.jpg\n",
            "Saving UH_PA2200_V1_70_io.jpg to UH_PA2200_V1_70_io.jpg\n",
            "Saving UH_PA2200_V1_80_io.jpg to UH_PA2200_V1_80_io.jpg\n",
            "Saving UH_PA2200_V1_90_io.jpg to UH_PA2200_V1_90_io.jpg\n",
            "Saving UH_PA2200_V1_100_io.jpg to UH_PA2200_V1_100_io.jpg\n",
            "Saving UH_PA3200GF_V1_02_io.jpg to UH_PA3200GF_V1_02_io.jpg\n",
            "Saving UH_PA3200GF_V1_04_io.jpg to UH_PA3200GF_V1_04_io.jpg\n",
            "Saving UH_PA3200GF_V1_06_io.jpg to UH_PA3200GF_V1_06_io.jpg\n",
            "Saving UH_PA3200GF_V1_08_io.jpg to UH_PA3200GF_V1_08_io.jpg\n",
            "Saving UH_PA3200GF_V1_10_io.jpg to UH_PA3200GF_V1_10_io.jpg\n",
            "Saving UH_PA3200GF_V1_12_io.jpg to UH_PA3200GF_V1_12_io (1).jpg\n",
            "Saving UH_PA3200GF_V1_14_io.jpg to UH_PA3200GF_V1_14_io.jpg\n",
            "Saving UH_PA3200GF_V1_16_io.jpg to UH_PA3200GF_V1_16_io.jpg\n",
            "Saving UH_PA3200GF_V1_18_io.jpg to UH_PA3200GF_V1_18_io.jpg\n",
            "Saving UH_PA3200GF_V1_20_io.jpg to UH_PA3200GF_V1_20_io (1).jpg\n",
            "Saving UH_PA3200GF_V1_30_io.jpg to UH_PA3200GF_V1_30_io.jpg\n",
            "Saving UH_PA3200GF_V1_40_io.jpg to UH_PA3200GF_V1_40_io.jpg\n",
            "Saving UH_PA3200GF_V1_50_io.jpg to UH_PA3200GF_V1_50_io (1).jpg\n",
            "Saving UH_PA3200GF_V3_02_io.jpg to UH_PA3200GF_V3_02_io.jpg\n",
            "Saving UH_PA3200GF_V3_04_io.jpg to UH_PA3200GF_V3_04_io.jpg\n",
            "Saving UH_PA3200GF_V3_06_io.jpg to UH_PA3200GF_V3_06_io.jpg\n",
            "Saving UH_PA3200GF_V3_08_io.jpg to UH_PA3200GF_V3_08_io.jpg\n",
            "Saving UH_PA3200GF_V3_10_io.jpg to UH_PA3200GF_V3_10_io.jpg\n",
            "Saving UH_PA3200GF_V3_12_io.jpg to UH_PA3200GF_V3_12_io.jpg\n",
            "Saving UH_PA3200GF_V3_14_io.jpg to UH_PA3200GF_V3_14_io (1).jpg\n",
            "Saving UH_PA3200GF_V3_16_io.jpg to UH_PA3200GF_V3_16_io.jpg\n",
            "Saving UH_PA3200GF_V3_18_io.jpg to UH_PA3200GF_V3_18_io.jpg\n",
            "Saving UH_PA3200GF_V3_20_io.jpg to UH_PA3200GF_V3_20_io.jpg\n",
            "Saving UH_PA3200GF_V3_30_io.jpg to UH_PA3200GF_V3_30_io.jpg\n",
            "Saving UH_PA3200GF_V3_40_io.jpg to UH_PA3200GF_V3_40_io.jpg\n",
            "Saving UH_PA3200GF_V3_50_io.jpg to UH_PA3200GF_V3_50_io.jpg\n",
            "Saving UH_PA3200GF_V3_60_io.jpg to UH_PA3200GF_V3_60_io.jpg\n",
            "Saving UH_PA3200GF_V3_70_io.jpg to UH_PA3200GF_V3_70_io.jpg\n",
            "Saving UH_PA3200GF_V3_80_io.jpg to UH_PA3200GF_V3_80_io.jpg\n",
            "Saving UH_PA3200GF_V3_90_io.jpg to UH_PA3200GF_V3_90_io.jpg\n",
            "Saving UH_PA3200GF_V3_100_io.jpg to UH_PA3200GF_V3_100_io (1).jpg\n",
            "Saving UH_PC_V1_02_io.jpg to UH_PC_V1_02_io.jpg\n",
            "Saving UH_PC_V1_04_unsicher.jpg to UH_PC_V1_04_unsicher.jpg\n",
            "Saving UH_PC_V1_06_nio.jpg to UH_PC_V1_06_nio.jpg\n",
            "Saving UH_PC_V1_08_nio.jpg to UH_PC_V1_08_nio.jpg\n",
            "Saving UH_PC_V1_10_nio.jpg to UH_PC_V1_10_nio.jpg\n",
            "Saving UH_PC_V1_12_nio.jpg to UH_PC_V1_12_nio.jpg\n",
            "Saving UH_PC_V1_14_nio.jpg to UH_PC_V1_14_nio.jpg\n",
            "Saving UH_PC_V1_16_nio.jpg to UH_PC_V1_16_nio (1).jpg\n",
            "Saving UH_PC_V1_18_nio.jpg to UH_PC_V1_18_nio (1).jpg\n",
            "Saving UH_PC_V1_20_nio.jpg to UH_PC_V1_20_nio.jpg\n",
            "Saving UH_PC_V1_30_nio.jpg to UH_PC_V1_30_nio.jpg\n",
            "Saving UH_PC_V1_40_nio.jpg to UH_PC_V1_40_nio.jpg\n",
            "Saving UH_PC_V1_50_nio.jpg to UH_PC_V1_50_nio.jpg\n",
            "Saving UH_PC_V2_02_io.jpg to UH_PC_V2_02_io.jpg\n",
            "Saving UH_PC_V2_04_unsicher.jpg to UH_PC_V2_04_unsicher.jpg\n",
            "Saving UH_PC_V2_06_nio.jpg to UH_PC_V2_06_nio.jpg\n",
            "Saving UH_PC_V2_08_unsicher.jpg to UH_PC_V2_08_unsicher.jpg\n",
            "Saving UH_PC_V2_10_nio.jpg to UH_PC_V2_10_nio.jpg\n",
            "Saving UH_PC_V2_12_nio.jpg to UH_PC_V2_12_nio.jpg\n",
            "Saving UH_PC_V2_14_nio.jpg to UH_PC_V2_14_nio.jpg\n",
            "Saving UH_PC_V2_16_nio.jpg to UH_PC_V2_16_nio.jpg\n",
            "Saving UH_PC_V2_18_nio.jpg to UH_PC_V2_18_nio.jpg\n",
            "Saving UH_PC_V2_20_nio.jpg to UH_PC_V2_20_nio.jpg\n",
            "Saving UH_PC_V2_30_nio.jpg to UH_PC_V2_30_nio.jpg\n",
            "Saving UH_PC_V2_40_nio.jpg to UH_PC_V2_40_nio.jpg\n",
            "Saving UH_PC_V2_50_nio.jpg to UH_PC_V2_50_nio.jpg\n",
            "Saving UH_PC_V3_02_io.jpg to UH_PC_V3_02_io.jpg\n",
            "Saving UH_PC_V3_04_io.jpg to UH_PC_V3_04_io.jpg\n",
            "Saving UH_PC_V3_06_nio.jpg to UH_PC_V3_06_nio.jpg\n",
            "Saving UH_PC_V3_08_nio.jpg to UH_PC_V3_08_nio.jpg\n",
            "Saving UH_PC_V3_10_nio.jpg to UH_PC_V3_10_nio.jpg\n",
            "Saving UH_PC_V3_12_nio.jpg to UH_PC_V3_12_nio.jpg\n",
            "Saving UH_PC_V3_14_nio.jpg to UH_PC_V3_14_nio.jpg\n",
            "Saving UH_PC_V3_16_nio.jpg to UH_PC_V3_16_nio (1).jpg\n",
            "Saving UH_PC_V3_18_nio.jpg to UH_PC_V3_18_nio.jpg\n",
            "Saving UH_PC_V3_20_nio.jpg to UH_PC_V3_20_nio.jpg\n",
            "Saving UH_PC_V3_30_nio.jpg to UH_PC_V3_30_nio.jpg\n",
            "Saving UH_PC_V3_40_nio.jpg to UH_PC_V3_40_nio.jpg\n",
            "Saving UH_PC_V3_50_nio.jpg to UH_PC_V3_50_nio.jpg\n",
            "Saving UH_V5_02_io.jpg to UH_V5_02_io.jpg\n",
            "Saving UH_V5_04_unsicher.jpg to UH_V5_04_unsicher.jpg\n",
            "Saving UH_V5_06_nio.jpg to UH_V5_06_nio.jpg\n",
            "Saving UH_V5_08_nio.jpg to UH_V5_08_nio.jpg\n",
            "Saving UH_V5_10_nio.jpg to UH_V5_10_nio.jpg\n",
            "Saving UH_V5_12_nio.jpg to UH_V5_12_nio.jpg\n",
            "Saving UH_V5_14_nio.jpg to UH_V5_14_nio.jpg\n",
            "Saving UH_V5_16_nio.jpg to UH_V5_16_nio.jpg\n",
            "Saving UH_V5_18_nio.jpg to UH_V5_18_nio.jpg\n",
            "Saving UH_V5_20_nio.jpg to UH_V5_20_nio.jpg\n",
            "Saving UH_V5_30_nio.jpg to UH_V5_30_nio.jpg\n",
            "Saving UH_V5_40_nio.jpg to UH_V5_40_nio.jpg\n",
            "Saving UH_V5_50_nio.jpg to UH_V5_50_nio.jpg\n",
            "Saving UH_V5_60_nio.jpg to UH_V5_60_nio.jpg\n",
            "[5.8405594e-06]\n",
            "ubekannt_12_nio.jpg ist defekt\n",
            "[0.11401114]\n",
            "UH_Inc718_V1_02_io.jpg ist defekt\n",
            "[1.00524664e-13]\n",
            "UH_Inc718_V1_04_nio.jpg ist defekt\n",
            "[4.8082184e-06]\n",
            "UH_Inc718_V1_06_nio.jpg ist defekt\n",
            "[3.061179e-17]\n",
            "UH_Inc718_V1_08_nio.jpg ist defekt\n",
            "[5.2322482e-14]\n",
            "UH_Inc718_V1_10_nio.jpg ist defekt\n",
            "[0.00169975]\n",
            "UH_Inc718_V1_12_nio.jpg ist defekt\n",
            "[9.789213e-14]\n",
            "UH_Inc718_V1_14_nio.jpg ist defekt\n",
            "[0.00337988]\n",
            "UH_Inc718_V1_16_nio.jpg ist defekt\n",
            "[5.9189125e-07]\n",
            "UH_Inc718_V1_18_nio.jpg ist defekt\n",
            "[2.9017752e-08]\n",
            "UH_Inc718_V1_20_nio.jpg ist defekt\n",
            "[5.858404e-12]\n",
            "UH_Inc718_V1_30_nio.jpg ist defekt\n",
            "[0.00520623]\n",
            "UH_Inc718_V2_02_nio.jpg ist defekt\n",
            "[5.0721783e-14]\n",
            "UH_Inc718_V2_04_nio.jpg ist defekt\n",
            "[2.2546172e-16]\n",
            "UH_Inc718_V2_06_nio.jpg ist defekt\n",
            "[6.2812456e-19]\n",
            "UH_Inc718_V2_08_nio.jpg ist defekt\n",
            "[0.0281221]\n",
            "UH_Inc718_V2_10_nio.jpg ist defekt\n",
            "[1.2899916e-06]\n",
            "UH_Inc718_V2_12_nio.jpg ist defekt\n",
            "[6.1055015e-20]\n",
            "UH_Inc718_V2_14_nio.jpg ist defekt\n",
            "[8.731309e-05]\n",
            "UH_Inc718_V2_16_nio.jpg ist defekt\n",
            "[1.01020005e-05]\n",
            "UH_Inc718_V2_18_nio.jpg ist defekt\n",
            "[1.0046206e-06]\n",
            "UH_Inc718_V2_20_nio.jpg ist defekt\n",
            "[0.00105277]\n",
            "UH_Inc718_V2_30_nio.jpg ist defekt\n",
            "[1.9393945e-05]\n",
            "UH_Inc718_V2_40_nio.jpg ist defekt\n",
            "[9.802757e-07]\n",
            "UH_Inc718_V3_02_unsicher.jpg ist defekt\n",
            "[1.8213677e-09]\n",
            "UH_Inc718_V3_04_nio.jpg ist defekt\n",
            "[1.6451359e-09]\n",
            "UH_Inc718_V3_06_nio.jpg ist defekt\n",
            "[2.031247e-09]\n",
            "UH_Inc718_V3_08_nio.jpg ist defekt\n",
            "[0.14287162]\n",
            "UH_Inc718_V3_10_nio.jpg ist defekt\n",
            "[0.00015226]\n",
            "UH_Inc718_V3_12_nio.jpg ist defekt\n",
            "[0.00687051]\n",
            "UH_Inc718_V3_14_nio.jpg ist defekt\n",
            "[1.8615075e-13]\n",
            "UH_Inc718_V3_16_nio.jpg ist defekt\n",
            "[0.00136852]\n",
            "UH_Inc718_V3_18_nio.jpg ist defekt\n",
            "[0.00123915]\n",
            "UH_Inc718_V3_20_nio.jpg ist defekt\n",
            "[2.150553e-06]\n",
            "UH_Inc718_V3_30_nio.jpg ist defekt\n",
            "[2.39299e-07]\n",
            "UH_Inc718_V3_40_nio.jpg ist defekt\n",
            "[0.97959244]\n",
            "UH_PA2200_V1_02_io.jpg ist herstellbar\n",
            "[0.9998829]\n",
            "UH_PA2200_V1_04_io.jpg ist herstellbar\n",
            "[0.9996704]\n",
            "UH_PA2200_V1_06_io.jpg ist herstellbar\n",
            "[0.99999845]\n",
            "UH_PA2200_V1_08_io.jpg ist herstellbar\n",
            "[0.99944246]\n",
            "UH_PA2200_V1_10_io.jpg ist herstellbar\n",
            "[0.9976863]\n",
            "UH_PA2200_V1_12_io.jpg ist herstellbar\n",
            "[0.9999446]\n",
            "UH_PA2200_V1_14_io.jpg ist herstellbar\n",
            "[0.99908304]\n",
            "UH_PA2200_V1_16_io.jpg ist herstellbar\n",
            "[0.99849474]\n",
            "UH_PA2200_V1_18_io.jpg ist herstellbar\n",
            "[0.9175617]\n",
            "UH_PA2200_V1_20_io.jpg ist herstellbar\n",
            "[0.9997424]\n",
            "UH_PA2200_V1_30_io.jpg ist herstellbar\n",
            "[0.28057206]\n",
            "UH_PA2200_V1_40_io.jpg ist defekt\n",
            "[0.9954121]\n",
            "UH_PA2200_V1_50_io.jpg ist herstellbar\n",
            "[0.9974206]\n",
            "UH_PA2200_V1_60_io.jpg ist herstellbar\n",
            "[0.99918306]\n",
            "UH_PA2200_V1_70_io.jpg ist herstellbar\n",
            "[0.99584866]\n",
            "UH_PA2200_V1_80_io.jpg ist herstellbar\n",
            "[0.9715201]\n",
            "UH_PA2200_V1_90_io.jpg ist herstellbar\n",
            "[0.9964878]\n",
            "UH_PA2200_V1_100_io.jpg ist herstellbar\n",
            "[0.99993783]\n",
            "UH_PA3200GF_V1_02_io.jpg ist herstellbar\n",
            "[0.99407387]\n",
            "UH_PA3200GF_V1_04_io.jpg ist herstellbar\n",
            "[0.99978685]\n",
            "UH_PA3200GF_V1_06_io.jpg ist herstellbar\n",
            "[0.9979446]\n",
            "UH_PA3200GF_V1_08_io.jpg ist herstellbar\n",
            "[0.99378717]\n",
            "UH_PA3200GF_V1_10_io.jpg ist herstellbar\n",
            "[0.9976275]\n",
            "UH_PA3200GF_V1_12_io.jpg ist herstellbar\n",
            "[0.99108195]\n",
            "UH_PA3200GF_V1_14_io.jpg ist herstellbar\n",
            "[0.9896358]\n",
            "UH_PA3200GF_V1_16_io.jpg ist herstellbar\n",
            "[0.9991606]\n",
            "UH_PA3200GF_V1_18_io.jpg ist herstellbar\n",
            "[0.99994195]\n",
            "UH_PA3200GF_V1_20_io.jpg ist herstellbar\n",
            "[0.9856698]\n",
            "UH_PA3200GF_V1_30_io.jpg ist herstellbar\n",
            "[0.99905616]\n",
            "UH_PA3200GF_V1_40_io.jpg ist herstellbar\n",
            "[0.9869273]\n",
            "UH_PA3200GF_V1_50_io.jpg ist herstellbar\n",
            "[0.9999599]\n",
            "UH_PA3200GF_V3_02_io.jpg ist herstellbar\n",
            "[0.99895674]\n",
            "UH_PA3200GF_V3_04_io.jpg ist herstellbar\n",
            "[0.23905]\n",
            "UH_PA3200GF_V3_06_io.jpg ist defekt\n",
            "[0.90927386]\n",
            "UH_PA3200GF_V3_08_io.jpg ist herstellbar\n",
            "[0.9837994]\n",
            "UH_PA3200GF_V3_10_io.jpg ist herstellbar\n",
            "[0.9793862]\n",
            "UH_PA3200GF_V3_12_io.jpg ist herstellbar\n",
            "[0.78048027]\n",
            "UH_PA3200GF_V3_14_io.jpg ist herstellbar\n",
            "[0.9860842]\n",
            "UH_PA3200GF_V3_16_io.jpg ist herstellbar\n",
            "[0.9856046]\n",
            "UH_PA3200GF_V3_18_io.jpg ist herstellbar\n",
            "[0.9899796]\n",
            "UH_PA3200GF_V3_20_io.jpg ist herstellbar\n",
            "[0.9985902]\n",
            "UH_PA3200GF_V3_30_io.jpg ist herstellbar\n",
            "[0.32131776]\n",
            "UH_PA3200GF_V3_40_io.jpg ist defekt\n",
            "[0.9744358]\n",
            "UH_PA3200GF_V3_50_io.jpg ist herstellbar\n",
            "[0.7940686]\n",
            "UH_PA3200GF_V3_60_io.jpg ist herstellbar\n",
            "[0.99955785]\n",
            "UH_PA3200GF_V3_70_io.jpg ist herstellbar\n",
            "[0.9987649]\n",
            "UH_PA3200GF_V3_80_io.jpg ist herstellbar\n",
            "[0.00013396]\n",
            "UH_PA3200GF_V3_90_io.jpg ist defekt\n",
            "[0.979117]\n",
            "UH_PA3200GF_V3_100_io.jpg ist herstellbar\n",
            "[0.99937296]\n",
            "UH_PC_V1_02_io.jpg ist herstellbar\n",
            "[9.227115e-05]\n",
            "UH_PC_V1_04_unsicher.jpg ist defekt\n",
            "[0.10799989]\n",
            "UH_PC_V1_06_nio.jpg ist defekt\n",
            "[0.0017412]\n",
            "UH_PC_V1_08_nio.jpg ist defekt\n",
            "[0.05206349]\n",
            "UH_PC_V1_10_nio.jpg ist defekt\n",
            "[0.9740447]\n",
            "UH_PC_V1_12_nio.jpg ist herstellbar\n",
            "[0.12106931]\n",
            "UH_PC_V1_14_nio.jpg ist defekt\n",
            "[0.00603387]\n",
            "UH_PC_V1_16_nio.jpg ist defekt\n",
            "[0.90901095]\n",
            "UH_PC_V1_18_nio.jpg ist herstellbar\n",
            "[0.25558823]\n",
            "UH_PC_V1_20_nio.jpg ist defekt\n",
            "[0.49087268]\n",
            "UH_PC_V1_30_nio.jpg ist defekt\n",
            "[0.34115958]\n",
            "UH_PC_V1_40_nio.jpg ist defekt\n",
            "[0.2296564]\n",
            "UH_PC_V1_50_nio.jpg ist defekt\n",
            "[0.5951671]\n",
            "UH_PC_V2_02_io.jpg ist herstellbar\n",
            "[0.00427186]\n",
            "UH_PC_V2_04_unsicher.jpg ist defekt\n",
            "[0.00052586]\n",
            "UH_PC_V2_06_nio.jpg ist defekt\n",
            "[0.01285407]\n",
            "UH_PC_V2_08_unsicher.jpg ist defekt\n",
            "[0.06486961]\n",
            "UH_PC_V2_10_nio.jpg ist defekt\n",
            "[0.30842155]\n",
            "UH_PC_V2_12_nio.jpg ist defekt\n",
            "[0.00013244]\n",
            "UH_PC_V2_14_nio.jpg ist defekt\n",
            "[0.68442106]\n",
            "UH_PC_V2_16_nio.jpg ist herstellbar\n",
            "[0.00989181]\n",
            "UH_PC_V2_18_nio.jpg ist defekt\n",
            "[5.9991668e-05]\n",
            "UH_PC_V2_20_nio.jpg ist defekt\n",
            "[0.35625914]\n",
            "UH_PC_V2_30_nio.jpg ist defekt\n",
            "[0.01672491]\n",
            "UH_PC_V2_40_nio.jpg ist defekt\n",
            "[0.01291218]\n",
            "UH_PC_V2_50_nio.jpg ist defekt\n",
            "[0.9969673]\n",
            "UH_PC_V3_02_io.jpg ist herstellbar\n",
            "[0.9943974]\n",
            "UH_PC_V3_04_io.jpg ist herstellbar\n",
            "[0.15640402]\n",
            "UH_PC_V3_06_nio.jpg ist defekt\n",
            "[0.00077757]\n",
            "UH_PC_V3_08_nio.jpg ist defekt\n",
            "[0.00433329]\n",
            "UH_PC_V3_10_nio.jpg ist defekt\n",
            "[0.00239855]\n",
            "UH_PC_V3_12_nio.jpg ist defekt\n",
            "[0.08251104]\n",
            "UH_PC_V3_14_nio.jpg ist defekt\n",
            "[0.00727284]\n",
            "UH_PC_V3_16_nio.jpg ist defekt\n",
            "[0.13358498]\n",
            "UH_PC_V3_18_nio.jpg ist defekt\n",
            "[0.01099151]\n",
            "UH_PC_V3_20_nio.jpg ist defekt\n",
            "[0.00473422]\n",
            "UH_PC_V3_30_nio.jpg ist defekt\n",
            "[0.00086367]\n",
            "UH_PC_V3_40_nio.jpg ist defekt\n",
            "[0.01058957]\n",
            "UH_PC_V3_50_nio.jpg ist defekt\n",
            "[0.09041405]\n",
            "UH_V5_02_io.jpg ist defekt\n",
            "[9.307609e-13]\n",
            "UH_V5_04_unsicher.jpg ist defekt\n",
            "[0.01862103]\n",
            "UH_V5_06_nio.jpg ist defekt\n",
            "[7.4835144e-16]\n",
            "UH_V5_08_nio.jpg ist defekt\n",
            "[6.081666e-23]\n",
            "UH_V5_10_nio.jpg ist defekt\n",
            "[1.3327467e-17]\n",
            "UH_V5_12_nio.jpg ist defekt\n",
            "[4.8749265e-18]\n",
            "UH_V5_14_nio.jpg ist defekt\n",
            "[0.10570669]\n",
            "UH_V5_16_nio.jpg ist defekt\n",
            "[1.7697827e-10]\n",
            "UH_V5_18_nio.jpg ist defekt\n",
            "[9.546219e-12]\n",
            "UH_V5_20_nio.jpg ist defekt\n",
            "[3.7942576e-05]\n",
            "UH_V5_30_nio.jpg ist defekt\n",
            "[3.6466422e-10]\n",
            "UH_V5_40_nio.jpg ist defekt\n",
            "[1.7879193e-08]\n",
            "UH_V5_50_nio.jpg ist defekt\n",
            "[2.664711e-10]\n",
            "UH_V5_60_nio.jpg ist defekt\n"
          ],
          "name": "stdout"
        }
      ]
    }
  ]
}