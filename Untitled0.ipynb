{
  "nbformat": 4,
  "nbformat_minor": 0,
  "metadata": {
    "colab": {
      "name": "Untitled0.ipynb",
      "provenance": [],
      "authorship_tag": "ABX9TyNhYj5p5QuCvG8X3Lxg0qii",
      "include_colab_link": true
    },
    "kernelspec": {
      "name": "python3",
      "display_name": "Python 3"
    }
  },
  "cells": [
    {
      "cell_type": "markdown",
      "metadata": {
        "id": "view-in-github",
        "colab_type": "text"
      },
      "source": [
        "<a href=\"https://colab.research.google.com/github/MStefanPaulus/Studienarbeit_Image-classification/blob/master/Untitled0.ipynb\" target=\"_parent\"><img src=\"https://colab.research.google.com/assets/colab-badge.svg\" alt=\"Open In Colab\"/></a>"
      ]
    },
    {
      "cell_type": "code",
      "metadata": {
        "id": "FOkN8eBGtLy9",
        "colab_type": "code",
        "colab": {}
      },
      "source": [
        "import numpy as np\n",
        "import os\n",
        "import PIL\n",
        "import PIL.Image\n",
        "import tensorflow as tf\n",
        "\n",
        "tf.keras.preprocessing.image_dataset_from_directory(\n",
        "    directory, labels='inferred', label_mode='int', class_names=None,\n",
        "    color_mode='rgb', batch_size=32, image_size=(256, 256), shuffle=True, seed=None,\n",
        "    validation_split=None, subset=None, interpolation='bilinear', follow_links=False\n",
        ")\n",
        "image_dataset_from_directory(main_directory, labels='inferred')"
      ],
      "execution_count": null,
      "outputs": []
    }
  ]
}